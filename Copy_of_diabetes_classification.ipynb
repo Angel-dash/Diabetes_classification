{
  "nbformat": 4,
  "nbformat_minor": 0,
  "metadata": {
    "colab": {
      "provenance": [],
      "include_colab_link": true
    },
    "kernelspec": {
      "name": "python3",
      "display_name": "Python 3"
    },
    "language_info": {
      "name": "python"
    }
  },
  "cells": [
    {
      "cell_type": "markdown",
      "metadata": {
        "id": "view-in-github",
        "colab_type": "text"
      },
      "source": [
        "<a href=\"https://colab.research.google.com/github/Angel-dash/CG_1/blob/main/Copy_of_diabetes_classification.ipynb\" target=\"_parent\"><img src=\"https://colab.research.google.com/assets/colab-badge.svg\" alt=\"Open In Colab\"/></a>"
      ]
    },
    {
      "cell_type": "markdown",
      "source": [
        "Importing the Dependencies"
      ],
      "metadata": {
        "id": "arQ3OgXBNTEm"
      }
    },
    {
      "cell_type": "code",
      "source": [
        "import numpy as np\n",
        "import pandas as pd\n",
        "from sklearn.preprocessing import StandardScaler\n",
        "from sklearn.model_selection import train_test_split\n",
        "from sklearn import svm\n",
        "from sklearn.metrics import accuracy_score\n",
        "import re\n",
        "import csv"
      ],
      "metadata": {
        "id": "vQF9XxiYNxyH"
      },
      "execution_count": 24,
      "outputs": []
    },
    {
      "cell_type": "code",
      "source": [
        "# Read data from file\n",
        "with open('data.txt', 'r') as file:\n",
        "    lines = file.readlines()"
      ],
      "metadata": {
        "id": "4KMX6jbEfHOP"
      },
      "execution_count": 25,
      "outputs": []
    },
    {
      "cell_type": "code",
      "source": [
        "print(lines)"
      ],
      "metadata": {
        "colab": {
          "base_uri": "https://localhost:8080/"
        },
        "id": "nYpBQIbNgrqq",
        "outputId": "284d66b5-e560-427b-ab00-509ea11f6f4d"
      },
      "execution_count": 26,
      "outputs": [
        {
          "output_type": "stream",
          "name": "stdout",
          "text": [
            "['Aaron Abernathy is 70 years old Male. Insulin is Up. Pt. has Diabetes with other specified manifestations- type II. Patient is on diabetes meds. Pt. got readmitted in <30 days.\\n', 'Aaron Barker is 70 years old Male. Patient is on diabetes meds. Pt. has Diabetes with other specified manifestations- type 1. Patient consulted Family/GeneralPractice specialist. Pt. got readmitted in >30 days. Insulin is Up.\\n', 'Aaron Carder is 30 years old Male. Insulin is unknown. His  lab work was conducted. A1c result is >8. Patient is taking metformin, glyburide. Patient is on diabetes meds. Pt. has Diabetes with other specified manifestations- type II.\\n', 'Aaron Clayton is 80 years old Male. Pt. has Diabetes with other specified manifestations- type II. Patient consulted Family/GeneralPractice specialist. Insulin is Down. Patient is on diabetes meds.\\n', 'Aaron Fallis is 50 years old Male. Pt. has Diabetes with other specified manifestations- type II. Patient is taking metformin, glimepiride, rosiglitazone. Patient is on diabetes meds. Insulin is Steady.\\n', 'Aaron Foster is 30 years old Male. He likes having Apple Pie. Patient consulted Emergency/Trauma specialist. Patient is taking metformin. Insulin is Steady. Pt. has Diabetes mellitus- Type 1. Patient is on diabetes meds.\\n', 'Aaron Fowler is 70 years old Male. His  lab work was conducted. Patient is taking glyburide. Insulin is unknown. Patient is on diabetes meds. Pt. got readmitted in >30 days. A1c result is >7. Pt. has Diabetes with renal manifestations- type II.\\n', 'Aaron Kennedy is 70 years old Male. Insulin is unknown. Patient is taking glipizide. Pt. got readmitted in <30 days. Pt. has Diabetes with peripheral circulatory disorders- type II. Patient is on diabetes meds. Patient consulted InternalMedicine specialist.\\n', 'Aaron Landes is 50 years old Male. Pt. has Diabetes with ketoacidosis- type 1. His  lab work was conducted. Patient is on diabetes meds. Insulin is Up. A1c result is >8.\\n', 'Aaron Pierre is 60 years old Male. Patient consulted Cardiology specialist. Insulin is Up. Patient is on diabetes meds. Pt. has Diabetes with ketoacidosis- type II. Pt. got readmitted in >30 days.\\n', 'Aaron Shannon is 60 years old Male. Pt. got readmitted in <30 days. Pt. has Diabetes with peripheral circulatory disorders- type II. Patient is on diabetes meds. Insulin is Up.\\n', 'Aaron Torres is 60 years old Male. A1c result is >8. Insulin is Steady. His  lab work was conducted. Patient is on diabetes meds. Pt. has Diabetes with peripheral circulatory disorders- type II. Patient is taking metformin, glyburide, rosiglitazone.\\n', 'Aaron Walsh is 50 years old Male. His  lab work was conducted. Patient is on diabetes meds. Patient consulted InternalMedicine specialist. Pt. got readmitted in >30 days. A1c result is >8. Pt. has Diabetes with other specified manifestations- type II. Patient is taking glipizide, pioglitazone. Insulin is Down.\\n', 'Abel Rhinehart is 10 years old Male. Pt. got readmitted in >30 days. Patient is not on diabetes meds. Insulin is unknown. Pt. has Diabetes with ketoacidosis- type 1. He likes having Eggs.\\n', 'Abraham Britt is 70 years old Male. Patient consulted Family/GeneralPractice specialist. Pt. has Diabetes with other specified manifestations- type II. Patient is on diabetes meds. Pt. got readmitted in >30 days. Patient is taking metformin. Insulin is Steady.\\n', 'Adalberto Garnett is 50 years old Male. Pt. has Diabetes with renal manifestations- type 1. Insulin is unknown. Pt. got readmitted in >30 days. Patient is not on diabetes meds.\\n', 'Adam Blubaugh is 30 years old Male. Patient is taking metformin, glimepiride. Insulin is Up. Pt. has Diabetes with other specified manifestations- type II. Patient is on diabetes meds.\\n', 'Adam Fuller is 20 years old Male. Pt. got readmitted in >30 days. Pt. has Diabetes with neurological manifestations- type 1. Insulin is Down. He likes having Eggs. Patient is on diabetes meds. Patient consulted InternalMedicine specialist.\\n', 'Adam Hawkins is 40 years old Male. Pt. has Diabetes with renal manifestations- type II. Insulin is unknown. Patient is not on diabetes meds.\\n', 'Adam Kennedy is 10 years old Male. Pt. has Diabetes mellitus- Type 1. His  lab work was conducted. Insulin is Steady. A1c result is >8. He likes having Yogurt. Patient is on diabetes meds. Patient consulted Pediatrics-Endocrinology specialist.\\n', 'Adam Maxwell is 20 years old Male. He likes having Potato. His  lab work was conducted. Patient consulted InternalMedicine specialist. Pt. has Diabetes with neurological manifestations- type II. A1c result is >8. Patient is on diabetes meds. Insulin is Steady.\\n', 'Adam Niblett is 40 years old Male. His  lab work was conducted. Patient is on diabetes meds. Patient consulted InternalMedicine specialist. A1c result is >8. Insulin is Down. Pt. has Diabetes with other specified manifestations- type II. Pt. got readmitted in >30 days.\\n', 'Adam Parrish is 70 years old Male. Pt. has Diabetes with other specified manifestations- type II. Pt. got readmitted in <30 days. Insulin is unknown. Patient is not on diabetes meds.\\n', 'Adam Sullivan is 50 years old Male. Patient is on diabetes meds. Insulin is Up. A1c result is >8. Patient consulted Emergency/Trauma specialist. Pt. has Diabetes with ketoacidosis- type II. His  lab work was conducted.\\n', 'Adam Sutton is 40 years old Male. Patient consulted InternalMedicine specialist. Insulin is Down. Pt. has Diabetes with other specified manifestations- type 1. Patient is on diabetes meds.\\n', 'Adam Sweeney is 50 years old Male. Pt. has Diabetes with peripheral circulatory disorders- type II. Insulin is Up. Patient is on diabetes meds. Pt. got readmitted in >30 days. Patient is taking metformin. Patient consulted Family/GeneralPractice specialist.\\n', 'Adam Yoshida is 40 years old Male. Patient consulted Surgery-General specialist. Patient is on diabetes meds. Insulin is Steady. A1c result is >7. Pt. has Diabetes with renal manifestations- type 1. His  lab work was conducted.\\n', 'Adan Faust is 80 years old Male. Patient is on diabetes meds. Pt. has Diabetes with peripheral circulatory disorders- type II. Patient is taking repaglinide. Insulin is unknown. Patient consulted Surgery-Vascular specialist.\\n', 'Adan Graham is 70 years old Male. Insulin is Up. Patient is on diabetes meds. Pt. has Diabetes with other coma- type 1. Patient consulted Nephrology specialist. Pt. got readmitted in <30 days.\\n', 'Adolfo Guion is 80 years old Male. Insulin is Up. A1c result is >8. Pt. has Diabetes with other specified manifestations- type II. Patient consulted Emergency/Trauma specialist. His  lab work was conducted. Patient is taking glimepiride, rosiglitazone. Patient is on diabetes meds.\\n', 'Adolph Phillips is 70 years old Male. Patient is on diabetes meds. His  lab work was conducted. Pt. has Diabetes with peripheral circulatory disorders- type II. Insulin is Down. A1c result is >8. Patient consulted InternalMedicine specialist. Pt. got readmitted in >30 days.\\n', 'Adolph Shoemaker is 40 years old Male. Patient is on diabetes meds. Pt. has Diabetes with ketoacidosis- type II. Insulin is Up. Patient consulted Emergency/Trauma specialist.\\n', 'Adolph Taylor is 50 years old Male. Pt. has Diabetes with other specified manifestations- type 1. Patient is on diabetes meds. Insulin is Down. His  lab work was conducted. Max Glucose Serum is >300. Patient is taking glipizide.\\n', 'Adrian Arnold is 50 years old Male. His  lab work was conducted. Insulin is unknown. Patient is on diabetes meds. A1c result is Norm. Patient is taking repaglinide. Pt. has Diabetes with peripheral circulatory disorders- type II. Pt. got readmitted in <30 days.\\n', 'Adrian Manley is 40 years old Male. Pt. has Diabetes with neurological manifestations- type II. Pt. got readmitted in >30 days. Patient is on diabetes meds. Patient is taking metformin, glipizide, rosiglitazone. Insulin is Steady.\\n', 'Adrian Reynolds is 60 years old Male. Pt. has Diabetes with neurological manifestations- type II. Patient consulted Emergency/Trauma specialist. Insulin is Up. Patient is on diabetes meds. Pt. got readmitted in >30 days.\\n', 'Adrian Robert is 90 years old Male. Insulin is Steady. Patient is on diabetes meds. Pt. has Diabetes with other specified manifestations- type II. Patient consulted Emergency/Trauma specialist.\\n', 'Adrian Scott is 40 years old Male. Patient is on diabetes meds. Insulin is Steady. Patient consulted InternalMedicine specialist. Pt. has Diabetes with ketoacidosis- type 1. Pt. got readmitted in >30 days.\\n', 'Agustin Wheeler is 60 years old Male. Pt. has Diabetes with neurological manifestations- type II. Insulin is unknown. Patient is taking nateglinide. Patient is on diabetes meds. Patient consulted Emergency/Trauma specialist.\\n', 'Alan Bechtold is 10 years old Male. Insulin is Down. Pt. has Diabetes mellitus- Type 1. He likes having Cherry pie. Patient is on diabetes meds.\\n', 'Alan Bobo is 20 years old Male. Pt. got readmitted in >30 days. He likes having Scrambled Eggs. Insulin is Up. Pt. has Diabetes with neurological manifestations- type II. Patient is on diabetes meds.\\n', 'Alan Himes is 20 years old Male. Pt. has Diabetes with ketoacidosis- type 1. Pt. got readmitted in <30 days. Insulin is Up. A1c result is >8. He likes having Whole Milk. His  lab work was conducted. Patient is on diabetes meds.\\n', 'Alan Larochelle is 40 years old Male. Insulin is Steady. Patient consulted Family/GeneralPractice specialist. A1c result is >8. His  lab work was conducted. Patient is taking metformin, pioglitazone. Pt. has Diabetes with neurological manifestations- type II. Patient is on diabetes meds. Pt. got readmitted in >30 days.\\n', 'Alan Maiden is 40 years old Male. Patient consulted Emergency/Trauma specialist. Pt. has Diabetes with other specified manifestations- type II. Patient is on diabetes meds. Patient is taking metformin. Insulin is unknown.\\n', 'Alan Rogers is 60 years old Male. Patient consulted Family/GeneralPractice specialist. Pt. has Diabetes with renal manifestations- type II. Insulin is Steady. Patient is taking metformin, glimepiride, rosiglitazone. Patient is on diabetes meds.\\n', 'Alan Rosado is 60 years old Male. Patient consulted Emergency/Trauma specialist. Patient is on diabetes meds. Pt. has Diabetes with hyperosmolarity- type II. A1c result is >8. Insulin is Down. His  lab work was conducted.\\n', 'Albert Barbour is 20 years old Male. Patient consulted Family/GeneralPractice specialist. Pt. has Diabetes with ketoacidosis- type 1. Patient is on diabetes meds. He likes having Potato. Pt. got readmitted in <30 days. Insulin is Down.\\n', 'Albert Bishop is 50 years old Male. Patient is taking metformin, rosiglitazone. Pt. has Diabetes with other specified manifestations- type II. Pt. got readmitted in >30 days. Insulin is Down. Patient is on diabetes meds. Patient consulted Orthopedics-Reconstructive specialist.\\n', 'Albert Bostrom is 50 years old Male. Pt. has Diabetes with renal manifestations- type II. Insulin is unknown. Patient is not on diabetes meds.\\n', 'Albert Clark is 60 years old Male. Pt. has Diabetes with neurological manifestations- type II. Patient is on diabetes meds. Insulin is Steady.\\n', 'Albert Jacquez is 40 years old Male. Pt. has Diabetes with other specified manifestations- type II. Patient is on diabetes meds. Pt. got readmitted in >30 days. Insulin is Steady.\\n', 'Albert Jones is 40 years old Male. A1c result is >7. Pt. got readmitted in >30 days. Pt. has Diabetes with other specified manifestations- type II. Patient is on diabetes meds. Insulin is Down. Patient consulted Emergency/Trauma specialist. His  lab work was conducted. Patient is taking metformin, glimepiride.\\n', 'Albert Kelley is 90 years old Male. His  lab work was conducted. Insulin is unknown. Patient is not on diabetes meds. Pt. got readmitted in >30 days. A1c result is >8. Pt. has Diabetes with other specified manifestations- type II.\\n', 'Albert Kiel is 60 years old Male. Pt. got readmitted in >30 days. Pt. has Diabetes with other specified manifestations- type II. Insulin is unknown. Patient is not on diabetes meds.\\n', 'Albert Lease is 40 years old Male. Pt. got readmitted in >30 days. Insulin is Steady. His  lab work was conducted. A1c result is >7. Patient is on diabetes meds. Pt. has Diabetes with ketoacidosis- type II .']\n"
          ]
        }
      ]
    },
    {
      "cell_type": "code",
      "source": [
        "import pandas as pd\n",
        "\n",
        "# Initialize empty lists to store patient information\n",
        "names = []\n",
        "ages = []\n",
        "genders = []\n",
        "diabetes_types = []\n",
        "insulin_steady = []\n",
        "insulin_up = []\n",
        "insulin_down = []\n",
        "readmission_statuses = []\n",
        "medications = []\n",
        "a1c_levels = []\n",
        "\n",
        "# Process each patient record\n",
        "for line in lines:\n",
        "    line = line.strip()\n",
        "    if line:\n",
        "        parts = line.split('. ')\n",
        "        patient_info = parts[0].split(' is ')\n",
        "        name = patient_info[0]\n",
        "        age_gender = patient_info[1].split(' years old ')\n",
        "        age = int(age_gender[0])\n",
        "        gender = age_gender[1]\n",
        "        other_info = parts[1:]\n",
        "\n",
        "        insulin = 'Unknown'\n",
        "        medication = 'Not on diabetes meds'\n",
        "        diabetes_type = 'Unknown'\n",
        "        readmission_status = 'Unknown'\n",
        "        a1c_level = 'Unknown'\n",
        "        insulin_steady_value = 0\n",
        "        insulin_up_value = 0\n",
        "        insulin_down_value = 0\n",
        "\n",
        "        for info in other_info:\n",
        "            if info.startswith('Insulin'):\n",
        "                insulin = info.split(' is ')[1]\n",
        "                if insulin == 'Steady':\n",
        "                    insulin_steady_value = 1\n",
        "                elif insulin == 'Up':\n",
        "                    insulin_up_value = 1\n",
        "                elif insulin == 'Down':\n",
        "                    insulin_down_value = 1\n",
        "            elif info.startswith('Patient is on diabetes meds'):\n",
        "                medication = 'Diabetes meds'\n",
        "            elif 'type 1' in info:\n",
        "                diabetes_type = 'Type I'\n",
        "            elif 'type II' in info:\n",
        "                diabetes_type = 'Type II'\n",
        "            elif info.startswith('Pt. got readmitted'):\n",
        "                readmission_status = info.split(' in ')[1]\n",
        "            elif info.startswith('A1c result'):\n",
        "                a1c_level = info.split(' is ')[1]\n",
        "\n",
        "        names.append(name)\n",
        "        ages.append(age)\n",
        "        genders.append(gender)\n",
        "        diabetes_types.append(diabetes_type)\n",
        "        insulin_steady.append(insulin_steady_value)\n",
        "        insulin_up.append(insulin_up_value)\n",
        "        insulin_down.append(insulin_down_value)\n",
        "        readmission_statuses.append(readmission_status)\n",
        "        medications.append(medication)\n",
        "        a1c_levels.append(a1c_level)\n",
        "\n",
        "# Create a DataFrame from the collected data\n",
        "data = {\n",
        "    'Patient Name': names,\n",
        "    'Age': ages,\n",
        "    'Gender': genders,\n",
        "    'Output': diabetes_types,\n",
        "    'Insulin Steady': insulin_steady,\n",
        "    'Insulin Up': insulin_up,\n",
        "    'Insulin Down': insulin_down,\n",
        "    'Readmitted Status': readmission_statuses,\n",
        "    'Medications': medications,\n",
        "    'A1C Level': a1c_levels\n",
        "}\n",
        "db = pd.DataFrame(data)\n"
      ],
      "metadata": {
        "id": "seEZ9tahgwyI"
      },
      "execution_count": 27,
      "outputs": []
    },
    {
      "cell_type": "code",
      "source": [
        "print(db)"
      ],
      "metadata": {
        "colab": {
          "base_uri": "https://localhost:8080/"
        },
        "id": "RfXmg0vUhGKp",
        "outputId": "cd53f6d1-fd64-48a2-d948-348b3a7c35a3"
      },
      "execution_count": 28,
      "outputs": [
        {
          "output_type": "stream",
          "name": "stdout",
          "text": [
            "         Patient Name  Age Gender   Output  Insulin Steady  Insulin Up  \\\n",
            "0     Aaron Abernathy   70   Male  Type II               0           1   \n",
            "1        Aaron Barker   70   Male   Type I               0           0   \n",
            "2        Aaron Carder   30   Male  Type II               0           0   \n",
            "3       Aaron Clayton   80   Male  Type II               0           0   \n",
            "4        Aaron Fallis   50   Male  Type II               0           0   \n",
            "5        Aaron Foster   30   Male  Unknown               1           0   \n",
            "6        Aaron Fowler   70   Male  Type II               0           0   \n",
            "7       Aaron Kennedy   70   Male  Type II               0           0   \n",
            "8        Aaron Landes   50   Male   Type I               0           1   \n",
            "9        Aaron Pierre   60   Male  Type II               0           1   \n",
            "10      Aaron Shannon   60   Male  Type II               0           0   \n",
            "11       Aaron Torres   60   Male  Type II               1           0   \n",
            "12        Aaron Walsh   50   Male  Type II               0           0   \n",
            "13     Abel Rhinehart   10   Male   Type I               0           0   \n",
            "14      Abraham Britt   70   Male  Type II               0           0   \n",
            "15  Adalberto Garnett   50   Male   Type I               0           0   \n",
            "16      Adam Blubaugh   30   Male  Type II               0           1   \n",
            "17        Adam Fuller   20   Male   Type I               0           0   \n",
            "18       Adam Hawkins   40   Male  Type II               0           0   \n",
            "19       Adam Kennedy   10   Male  Unknown               1           0   \n",
            "20       Adam Maxwell   20   Male  Type II               0           0   \n",
            "21       Adam Niblett   40   Male  Type II               0           0   \n",
            "22       Adam Parrish   70   Male  Type II               0           0   \n",
            "23      Adam Sullivan   50   Male  Type II               0           1   \n",
            "24        Adam Sutton   40   Male   Type I               0           0   \n",
            "25       Adam Sweeney   50   Male  Type II               0           1   \n",
            "26       Adam Yoshida   40   Male   Type I               1           0   \n",
            "27         Adan Faust   80   Male  Type II               0           0   \n",
            "28        Adan Graham   70   Male   Type I               0           1   \n",
            "29       Adolfo Guion   80   Male  Type II               0           1   \n",
            "30    Adolph Phillips   70   Male  Type II               0           0   \n",
            "31   Adolph Shoemaker   40   Male  Type II               0           1   \n",
            "32      Adolph Taylor   50   Male   Type I               0           0   \n",
            "33      Adrian Arnold   50   Male  Type II               0           0   \n",
            "34      Adrian Manley   40   Male  Type II               0           0   \n",
            "35    Adrian Reynolds   60   Male  Type II               0           1   \n",
            "36      Adrian Robert   90   Male  Type II               1           0   \n",
            "37       Adrian Scott   40   Male   Type I               1           0   \n",
            "38    Agustin Wheeler   60   Male  Type II               0           0   \n",
            "39      Alan Bechtold   10   Male  Unknown               0           0   \n",
            "40          Alan Bobo   20   Male  Type II               0           1   \n",
            "41         Alan Himes   20   Male   Type I               0           1   \n",
            "42    Alan Larochelle   40   Male  Type II               1           0   \n",
            "43        Alan Maiden   40   Male  Type II               0           0   \n",
            "44        Alan Rogers   60   Male  Type II               1           0   \n",
            "45        Alan Rosado   60   Male  Type II               0           0   \n",
            "46     Albert Barbour   20   Male   Type I               0           0   \n",
            "47      Albert Bishop   50   Male  Type II               0           0   \n",
            "48     Albert Bostrom   50   Male  Type II               0           0   \n",
            "49       Albert Clark   60   Male  Type II               0           0   \n",
            "50     Albert Jacquez   40   Male  Type II               0           0   \n",
            "51       Albert Jones   40   Male  Type II               0           0   \n",
            "52      Albert Kelley   90   Male  Type II               0           0   \n",
            "53        Albert Kiel   60   Male  Type II               0           0   \n",
            "54       Albert Lease   40   Male  Type II               1           0   \n",
            "\n",
            "    Insulin Down Readmitted Status           Medications A1C Level  \n",
            "0              0           Unknown         Diabetes meds   Unknown  \n",
            "1              0           Unknown         Diabetes meds   Unknown  \n",
            "2              0           Unknown         Diabetes meds        >8  \n",
            "3              1           Unknown         Diabetes meds   Unknown  \n",
            "4              0           Unknown         Diabetes meds   Unknown  \n",
            "5              0           Unknown         Diabetes meds   Unknown  \n",
            "6              0           Unknown         Diabetes meds        >7  \n",
            "7              0           Unknown         Diabetes meds   Unknown  \n",
            "8              0           Unknown         Diabetes meds       >8.  \n",
            "9              0           Unknown         Diabetes meds   Unknown  \n",
            "10             0           Unknown         Diabetes meds   Unknown  \n",
            "11             0           Unknown         Diabetes meds        >8  \n",
            "12             0           Unknown         Diabetes meds        >8  \n",
            "13             0           Unknown  Not on diabetes meds   Unknown  \n",
            "14             0           Unknown         Diabetes meds   Unknown  \n",
            "15             0           Unknown  Not on diabetes meds   Unknown  \n",
            "16             0           Unknown         Diabetes meds   Unknown  \n",
            "17             1           Unknown         Diabetes meds   Unknown  \n",
            "18             0           Unknown  Not on diabetes meds   Unknown  \n",
            "19             0           Unknown         Diabetes meds        >8  \n",
            "20             0           Unknown         Diabetes meds        >8  \n",
            "21             1           Unknown         Diabetes meds        >8  \n",
            "22             0           Unknown  Not on diabetes meds   Unknown  \n",
            "23             0           Unknown         Diabetes meds        >8  \n",
            "24             1           Unknown         Diabetes meds   Unknown  \n",
            "25             0           Unknown         Diabetes meds   Unknown  \n",
            "26             0           Unknown         Diabetes meds        >7  \n",
            "27             0           Unknown         Diabetes meds   Unknown  \n",
            "28             0           Unknown         Diabetes meds   Unknown  \n",
            "29             0           Unknown         Diabetes meds        >8  \n",
            "30             1           Unknown         Diabetes meds        >8  \n",
            "31             0           Unknown         Diabetes meds   Unknown  \n",
            "32             1           Unknown         Diabetes meds   Unknown  \n",
            "33             0           Unknown         Diabetes meds      Norm  \n",
            "34             0           Unknown         Diabetes meds   Unknown  \n",
            "35             0           Unknown         Diabetes meds   Unknown  \n",
            "36             0           Unknown         Diabetes meds   Unknown  \n",
            "37             0           Unknown         Diabetes meds   Unknown  \n",
            "38             0           Unknown         Diabetes meds   Unknown  \n",
            "39             1           Unknown         Diabetes meds   Unknown  \n",
            "40             0           Unknown         Diabetes meds   Unknown  \n",
            "41             0           Unknown         Diabetes meds        >8  \n",
            "42             0           Unknown         Diabetes meds        >8  \n",
            "43             0           Unknown         Diabetes meds   Unknown  \n",
            "44             0           Unknown         Diabetes meds   Unknown  \n",
            "45             1           Unknown         Diabetes meds        >8  \n",
            "46             0           Unknown         Diabetes meds   Unknown  \n",
            "47             1           Unknown         Diabetes meds   Unknown  \n",
            "48             0           Unknown  Not on diabetes meds   Unknown  \n",
            "49             0           Unknown         Diabetes meds   Unknown  \n",
            "50             0           Unknown         Diabetes meds   Unknown  \n",
            "51             1           Unknown         Diabetes meds        >7  \n",
            "52             0           Unknown  Not on diabetes meds        >8  \n",
            "53             0           Unknown  Not on diabetes meds   Unknown  \n",
            "54             0           Unknown         Diabetes meds        >7  \n"
          ]
        }
      ]
    },
    {
      "cell_type": "code",
      "source": [],
      "metadata": {
        "id": "St7v4HWrTNs0"
      },
      "execution_count": 28,
      "outputs": []
    },
    {
      "cell_type": "code",
      "source": [
        "#loading the diabetes dataset to pandas Datafream\n",
        "df = pd.read_csv('/content/DataOutput.csv')"
      ],
      "metadata": {
        "id": "ivNdZXZuPlea"
      },
      "execution_count": 29,
      "outputs": []
    },
    {
      "cell_type": "code",
      "source": [
        "#printing the first five rows of the dataset\n",
        "db.head()"
      ],
      "metadata": {
        "colab": {
          "base_uri": "https://localhost:8080/",
          "height": 354
        },
        "id": "eeVTWtdWQTwl",
        "outputId": "a750f3ab-618b-4961-a50b-ce4585e48b77"
      },
      "execution_count": 30,
      "outputs": [
        {
          "output_type": "execute_result",
          "data": {
            "text/plain": [
              "      Patient Name  Age Gender   Output  Insulin Steady  Insulin Up  \\\n",
              "0  Aaron Abernathy   70   Male  Type II               0           1   \n",
              "1     Aaron Barker   70   Male   Type I               0           0   \n",
              "2     Aaron Carder   30   Male  Type II               0           0   \n",
              "3    Aaron Clayton   80   Male  Type II               0           0   \n",
              "4     Aaron Fallis   50   Male  Type II               0           0   \n",
              "\n",
              "   Insulin Down Readmitted Status    Medications A1C Level  \n",
              "0             0           Unknown  Diabetes meds   Unknown  \n",
              "1             0           Unknown  Diabetes meds   Unknown  \n",
              "2             0           Unknown  Diabetes meds        >8  \n",
              "3             1           Unknown  Diabetes meds   Unknown  \n",
              "4             0           Unknown  Diabetes meds   Unknown  "
            ],
            "text/html": [
              "\n",
              "  <div id=\"df-cfb1ba2e-ac16-4781-a5a7-7aa3113d8a8e\">\n",
              "    <div class=\"colab-df-container\">\n",
              "      <div>\n",
              "<style scoped>\n",
              "    .dataframe tbody tr th:only-of-type {\n",
              "        vertical-align: middle;\n",
              "    }\n",
              "\n",
              "    .dataframe tbody tr th {\n",
              "        vertical-align: top;\n",
              "    }\n",
              "\n",
              "    .dataframe thead th {\n",
              "        text-align: right;\n",
              "    }\n",
              "</style>\n",
              "<table border=\"1\" class=\"dataframe\">\n",
              "  <thead>\n",
              "    <tr style=\"text-align: right;\">\n",
              "      <th></th>\n",
              "      <th>Patient Name</th>\n",
              "      <th>Age</th>\n",
              "      <th>Gender</th>\n",
              "      <th>Output</th>\n",
              "      <th>Insulin Steady</th>\n",
              "      <th>Insulin Up</th>\n",
              "      <th>Insulin Down</th>\n",
              "      <th>Readmitted Status</th>\n",
              "      <th>Medications</th>\n",
              "      <th>A1C Level</th>\n",
              "    </tr>\n",
              "  </thead>\n",
              "  <tbody>\n",
              "    <tr>\n",
              "      <th>0</th>\n",
              "      <td>Aaron Abernathy</td>\n",
              "      <td>70</td>\n",
              "      <td>Male</td>\n",
              "      <td>Type II</td>\n",
              "      <td>0</td>\n",
              "      <td>1</td>\n",
              "      <td>0</td>\n",
              "      <td>Unknown</td>\n",
              "      <td>Diabetes meds</td>\n",
              "      <td>Unknown</td>\n",
              "    </tr>\n",
              "    <tr>\n",
              "      <th>1</th>\n",
              "      <td>Aaron Barker</td>\n",
              "      <td>70</td>\n",
              "      <td>Male</td>\n",
              "      <td>Type I</td>\n",
              "      <td>0</td>\n",
              "      <td>0</td>\n",
              "      <td>0</td>\n",
              "      <td>Unknown</td>\n",
              "      <td>Diabetes meds</td>\n",
              "      <td>Unknown</td>\n",
              "    </tr>\n",
              "    <tr>\n",
              "      <th>2</th>\n",
              "      <td>Aaron Carder</td>\n",
              "      <td>30</td>\n",
              "      <td>Male</td>\n",
              "      <td>Type II</td>\n",
              "      <td>0</td>\n",
              "      <td>0</td>\n",
              "      <td>0</td>\n",
              "      <td>Unknown</td>\n",
              "      <td>Diabetes meds</td>\n",
              "      <td>&gt;8</td>\n",
              "    </tr>\n",
              "    <tr>\n",
              "      <th>3</th>\n",
              "      <td>Aaron Clayton</td>\n",
              "      <td>80</td>\n",
              "      <td>Male</td>\n",
              "      <td>Type II</td>\n",
              "      <td>0</td>\n",
              "      <td>0</td>\n",
              "      <td>1</td>\n",
              "      <td>Unknown</td>\n",
              "      <td>Diabetes meds</td>\n",
              "      <td>Unknown</td>\n",
              "    </tr>\n",
              "    <tr>\n",
              "      <th>4</th>\n",
              "      <td>Aaron Fallis</td>\n",
              "      <td>50</td>\n",
              "      <td>Male</td>\n",
              "      <td>Type II</td>\n",
              "      <td>0</td>\n",
              "      <td>0</td>\n",
              "      <td>0</td>\n",
              "      <td>Unknown</td>\n",
              "      <td>Diabetes meds</td>\n",
              "      <td>Unknown</td>\n",
              "    </tr>\n",
              "  </tbody>\n",
              "</table>\n",
              "</div>\n",
              "      <button class=\"colab-df-convert\" onclick=\"convertToInteractive('df-cfb1ba2e-ac16-4781-a5a7-7aa3113d8a8e')\"\n",
              "              title=\"Convert this dataframe to an interactive table.\"\n",
              "              style=\"display:none;\">\n",
              "        \n",
              "  <svg xmlns=\"http://www.w3.org/2000/svg\" height=\"24px\"viewBox=\"0 0 24 24\"\n",
              "       width=\"24px\">\n",
              "    <path d=\"M0 0h24v24H0V0z\" fill=\"none\"/>\n",
              "    <path d=\"M18.56 5.44l.94 2.06.94-2.06 2.06-.94-2.06-.94-.94-2.06-.94 2.06-2.06.94zm-11 1L8.5 8.5l.94-2.06 2.06-.94-2.06-.94L8.5 2.5l-.94 2.06-2.06.94zm10 10l.94 2.06.94-2.06 2.06-.94-2.06-.94-.94-2.06-.94 2.06-2.06.94z\"/><path d=\"M17.41 7.96l-1.37-1.37c-.4-.4-.92-.59-1.43-.59-.52 0-1.04.2-1.43.59L10.3 9.45l-7.72 7.72c-.78.78-.78 2.05 0 2.83L4 21.41c.39.39.9.59 1.41.59.51 0 1.02-.2 1.41-.59l7.78-7.78 2.81-2.81c.8-.78.8-2.07 0-2.86zM5.41 20L4 18.59l7.72-7.72 1.47 1.35L5.41 20z\"/>\n",
              "  </svg>\n",
              "      </button>\n",
              "      \n",
              "  <style>\n",
              "    .colab-df-container {\n",
              "      display:flex;\n",
              "      flex-wrap:wrap;\n",
              "      gap: 12px;\n",
              "    }\n",
              "\n",
              "    .colab-df-convert {\n",
              "      background-color: #E8F0FE;\n",
              "      border: none;\n",
              "      border-radius: 50%;\n",
              "      cursor: pointer;\n",
              "      display: none;\n",
              "      fill: #1967D2;\n",
              "      height: 32px;\n",
              "      padding: 0 0 0 0;\n",
              "      width: 32px;\n",
              "    }\n",
              "\n",
              "    .colab-df-convert:hover {\n",
              "      background-color: #E2EBFA;\n",
              "      box-shadow: 0px 1px 2px rgba(60, 64, 67, 0.3), 0px 1px 3px 1px rgba(60, 64, 67, 0.15);\n",
              "      fill: #174EA6;\n",
              "    }\n",
              "\n",
              "    [theme=dark] .colab-df-convert {\n",
              "      background-color: #3B4455;\n",
              "      fill: #D2E3FC;\n",
              "    }\n",
              "\n",
              "    [theme=dark] .colab-df-convert:hover {\n",
              "      background-color: #434B5C;\n",
              "      box-shadow: 0px 1px 3px 1px rgba(0, 0, 0, 0.15);\n",
              "      filter: drop-shadow(0px 1px 2px rgba(0, 0, 0, 0.3));\n",
              "      fill: #FFFFFF;\n",
              "    }\n",
              "  </style>\n",
              "\n",
              "      <script>\n",
              "        const buttonEl =\n",
              "          document.querySelector('#df-cfb1ba2e-ac16-4781-a5a7-7aa3113d8a8e button.colab-df-convert');\n",
              "        buttonEl.style.display =\n",
              "          google.colab.kernel.accessAllowed ? 'block' : 'none';\n",
              "\n",
              "        async function convertToInteractive(key) {\n",
              "          const element = document.querySelector('#df-cfb1ba2e-ac16-4781-a5a7-7aa3113d8a8e');\n",
              "          const dataTable =\n",
              "            await google.colab.kernel.invokeFunction('convertToInteractive',\n",
              "                                                     [key], {});\n",
              "          if (!dataTable) return;\n",
              "\n",
              "          const docLinkHtml = 'Like what you see? Visit the ' +\n",
              "            '<a target=\"_blank\" href=https://colab.research.google.com/notebooks/data_table.ipynb>data table notebook</a>'\n",
              "            + ' to learn more about interactive tables.';\n",
              "          element.innerHTML = '';\n",
              "          dataTable['output_type'] = 'display_data';\n",
              "          await google.colab.output.renderOutput(dataTable, element);\n",
              "          const docLink = document.createElement('div');\n",
              "          docLink.innerHTML = docLinkHtml;\n",
              "          element.appendChild(docLink);\n",
              "        }\n",
              "      </script>\n",
              "    </div>\n",
              "  </div>\n",
              "  "
            ]
          },
          "metadata": {},
          "execution_count": 30
        }
      ]
    },
    {
      "cell_type": "code",
      "source": [
        "# Create a dictionary of key-value pairs\n",
        "replacements = {'Type I': 1, 'Type II': 0,'Unknown':1}\n",
        "\n",
        "# Replace the values in the `type` column\n",
        "db['Output'] = df['Output'].replace(replacements)\n",
        "\n",
        "# Print the DataFrame\n",
        "print(db)"
      ],
      "metadata": {
        "colab": {
          "base_uri": "https://localhost:8080/"
        },
        "id": "uGPlmWhk8put",
        "outputId": "7adf4f17-f194-4e1a-f00a-20943f6e9215"
      },
      "execution_count": 31,
      "outputs": [
        {
          "output_type": "stream",
          "name": "stdout",
          "text": [
            "         Patient Name  Age Gender  Output  Insulin Steady  Insulin Up  \\\n",
            "0     Aaron Abernathy   70   Male       0               0           1   \n",
            "1        Aaron Barker   70   Male       1               0           0   \n",
            "2        Aaron Carder   30   Male       0               0           0   \n",
            "3       Aaron Clayton   80   Male       0               0           0   \n",
            "4        Aaron Fallis   50   Male       0               0           0   \n",
            "5        Aaron Foster   30   Male       1               1           0   \n",
            "6        Aaron Fowler   70   Male       0               0           0   \n",
            "7       Aaron Kennedy   70   Male       0               0           0   \n",
            "8        Aaron Landes   50   Male       1               0           1   \n",
            "9        Aaron Pierre   60   Male       0               0           1   \n",
            "10      Aaron Shannon   60   Male       0               0           0   \n",
            "11       Aaron Torres   60   Male       0               1           0   \n",
            "12        Aaron Walsh   50   Male       0               0           0   \n",
            "13     Abel Rhinehart   10   Male       1               0           0   \n",
            "14      Abraham Britt   70   Male       0               0           0   \n",
            "15  Adalberto Garnett   50   Male       1               0           0   \n",
            "16      Adam Blubaugh   30   Male       0               0           1   \n",
            "17        Adam Fuller   20   Male       1               0           0   \n",
            "18       Adam Hawkins   40   Male       0               0           0   \n",
            "19       Adam Kennedy   10   Male       1               1           0   \n",
            "20       Adam Maxwell   20   Male       0               0           0   \n",
            "21       Adam Niblett   40   Male       0               0           0   \n",
            "22       Adam Parrish   70   Male       0               0           0   \n",
            "23      Adam Sullivan   50   Male       0               0           1   \n",
            "24        Adam Sutton   40   Male       1               0           0   \n",
            "25       Adam Sweeney   50   Male       0               0           1   \n",
            "26       Adam Yoshida   40   Male       1               1           0   \n",
            "27         Adan Faust   80   Male       0               0           0   \n",
            "28        Adan Graham   70   Male       1               0           1   \n",
            "29       Adolfo Guion   80   Male       0               0           1   \n",
            "30    Adolph Phillips   70   Male       0               0           0   \n",
            "31   Adolph Shoemaker   40   Male       0               0           1   \n",
            "32      Adolph Taylor   50   Male       1               0           0   \n",
            "33      Adrian Arnold   50   Male       0               0           0   \n",
            "34      Adrian Manley   40   Male       0               0           0   \n",
            "35    Adrian Reynolds   60   Male       0               0           1   \n",
            "36      Adrian Robert   90   Male       0               1           0   \n",
            "37       Adrian Scott   40   Male       1               1           0   \n",
            "38    Agustin Wheeler   60   Male       0               0           0   \n",
            "39      Alan Bechtold   10   Male       1               0           0   \n",
            "40          Alan Bobo   20   Male       0               0           1   \n",
            "41         Alan Himes   20   Male       1               0           1   \n",
            "42    Alan Larochelle   40   Male       0               1           0   \n",
            "43        Alan Maiden   40   Male       0               0           0   \n",
            "44        Alan Rogers   60   Male       0               1           0   \n",
            "45        Alan Rosado   60   Male       0               0           0   \n",
            "46     Albert Barbour   20   Male       1               0           0   \n",
            "47      Albert Bishop   50   Male       0               0           0   \n",
            "48     Albert Bostrom   50   Male       0               0           0   \n",
            "49       Albert Clark   60   Male       0               0           0   \n",
            "50     Albert Jacquez   40   Male       0               0           0   \n",
            "51       Albert Jones   40   Male       0               0           0   \n",
            "52      Albert Kelley   90   Male       0               0           0   \n",
            "53        Albert Kiel   60   Male       0               0           0   \n",
            "54       Albert Lease   40   Male       0               1           0   \n",
            "\n",
            "    Insulin Down Readmitted Status           Medications A1C Level  \n",
            "0              0           Unknown         Diabetes meds   Unknown  \n",
            "1              0           Unknown         Diabetes meds   Unknown  \n",
            "2              0           Unknown         Diabetes meds        >8  \n",
            "3              1           Unknown         Diabetes meds   Unknown  \n",
            "4              0           Unknown         Diabetes meds   Unknown  \n",
            "5              0           Unknown         Diabetes meds   Unknown  \n",
            "6              0           Unknown         Diabetes meds        >7  \n",
            "7              0           Unknown         Diabetes meds   Unknown  \n",
            "8              0           Unknown         Diabetes meds       >8.  \n",
            "9              0           Unknown         Diabetes meds   Unknown  \n",
            "10             0           Unknown         Diabetes meds   Unknown  \n",
            "11             0           Unknown         Diabetes meds        >8  \n",
            "12             0           Unknown         Diabetes meds        >8  \n",
            "13             0           Unknown  Not on diabetes meds   Unknown  \n",
            "14             0           Unknown         Diabetes meds   Unknown  \n",
            "15             0           Unknown  Not on diabetes meds   Unknown  \n",
            "16             0           Unknown         Diabetes meds   Unknown  \n",
            "17             1           Unknown         Diabetes meds   Unknown  \n",
            "18             0           Unknown  Not on diabetes meds   Unknown  \n",
            "19             0           Unknown         Diabetes meds        >8  \n",
            "20             0           Unknown         Diabetes meds        >8  \n",
            "21             1           Unknown         Diabetes meds        >8  \n",
            "22             0           Unknown  Not on diabetes meds   Unknown  \n",
            "23             0           Unknown         Diabetes meds        >8  \n",
            "24             1           Unknown         Diabetes meds   Unknown  \n",
            "25             0           Unknown         Diabetes meds   Unknown  \n",
            "26             0           Unknown         Diabetes meds        >7  \n",
            "27             0           Unknown         Diabetes meds   Unknown  \n",
            "28             0           Unknown         Diabetes meds   Unknown  \n",
            "29             0           Unknown         Diabetes meds        >8  \n",
            "30             1           Unknown         Diabetes meds        >8  \n",
            "31             0           Unknown         Diabetes meds   Unknown  \n",
            "32             1           Unknown         Diabetes meds   Unknown  \n",
            "33             0           Unknown         Diabetes meds      Norm  \n",
            "34             0           Unknown         Diabetes meds   Unknown  \n",
            "35             0           Unknown         Diabetes meds   Unknown  \n",
            "36             0           Unknown         Diabetes meds   Unknown  \n",
            "37             0           Unknown         Diabetes meds   Unknown  \n",
            "38             0           Unknown         Diabetes meds   Unknown  \n",
            "39             1           Unknown         Diabetes meds   Unknown  \n",
            "40             0           Unknown         Diabetes meds   Unknown  \n",
            "41             0           Unknown         Diabetes meds        >8  \n",
            "42             0           Unknown         Diabetes meds        >8  \n",
            "43             0           Unknown         Diabetes meds   Unknown  \n",
            "44             0           Unknown         Diabetes meds   Unknown  \n",
            "45             1           Unknown         Diabetes meds        >8  \n",
            "46             0           Unknown         Diabetes meds   Unknown  \n",
            "47             1           Unknown         Diabetes meds   Unknown  \n",
            "48             0           Unknown  Not on diabetes meds   Unknown  \n",
            "49             0           Unknown         Diabetes meds   Unknown  \n",
            "50             0           Unknown         Diabetes meds   Unknown  \n",
            "51             1           Unknown         Diabetes meds        >7  \n",
            "52             0           Unknown  Not on diabetes meds        >8  \n",
            "53             0           Unknown  Not on diabetes meds   Unknown  \n",
            "54             0           Unknown         Diabetes meds        >7  \n"
          ]
        }
      ]
    },
    {
      "cell_type": "code",
      "source": [
        "#Dropping row\n",
        "db=db.drop([])"
      ],
      "metadata": {
        "id": "e8ibZ-IaUdoe"
      },
      "execution_count": 32,
      "outputs": []
    },
    {
      "cell_type": "code",
      "source": [
        "# Create a dictionary of key-value pairs\n",
        "replacements = {'Diabetes meds': 1, 'Not on diabetes meds': 0}\n",
        "\n",
        "# Replace the values in the `type` column\n",
        "db['Medications'] = df['Medications'].replace(replacements)\n",
        "A=db\n",
        "# Print the DataFrame\n",
        "print(db)"
      ],
      "metadata": {
        "colab": {
          "base_uri": "https://localhost:8080/"
        },
        "outputId": "8da3a95e-72c1-4f52-c91f-5eeea28d4be5",
        "id": "KYhCfpqXHzb0"
      },
      "execution_count": 33,
      "outputs": [
        {
          "output_type": "stream",
          "name": "stdout",
          "text": [
            "         Patient Name  Age Gender  Output  Insulin Steady  Insulin Up  \\\n",
            "0     Aaron Abernathy   70   Male       0               0           1   \n",
            "1        Aaron Barker   70   Male       1               0           0   \n",
            "2        Aaron Carder   30   Male       0               0           0   \n",
            "3       Aaron Clayton   80   Male       0               0           0   \n",
            "4        Aaron Fallis   50   Male       0               0           0   \n",
            "5        Aaron Foster   30   Male       1               1           0   \n",
            "6        Aaron Fowler   70   Male       0               0           0   \n",
            "7       Aaron Kennedy   70   Male       0               0           0   \n",
            "8        Aaron Landes   50   Male       1               0           1   \n",
            "9        Aaron Pierre   60   Male       0               0           1   \n",
            "10      Aaron Shannon   60   Male       0               0           0   \n",
            "11       Aaron Torres   60   Male       0               1           0   \n",
            "12        Aaron Walsh   50   Male       0               0           0   \n",
            "13     Abel Rhinehart   10   Male       1               0           0   \n",
            "14      Abraham Britt   70   Male       0               0           0   \n",
            "15  Adalberto Garnett   50   Male       1               0           0   \n",
            "16      Adam Blubaugh   30   Male       0               0           1   \n",
            "17        Adam Fuller   20   Male       1               0           0   \n",
            "18       Adam Hawkins   40   Male       0               0           0   \n",
            "19       Adam Kennedy   10   Male       1               1           0   \n",
            "20       Adam Maxwell   20   Male       0               0           0   \n",
            "21       Adam Niblett   40   Male       0               0           0   \n",
            "22       Adam Parrish   70   Male       0               0           0   \n",
            "23      Adam Sullivan   50   Male       0               0           1   \n",
            "24        Adam Sutton   40   Male       1               0           0   \n",
            "25       Adam Sweeney   50   Male       0               0           1   \n",
            "26       Adam Yoshida   40   Male       1               1           0   \n",
            "27         Adan Faust   80   Male       0               0           0   \n",
            "28        Adan Graham   70   Male       1               0           1   \n",
            "29       Adolfo Guion   80   Male       0               0           1   \n",
            "30    Adolph Phillips   70   Male       0               0           0   \n",
            "31   Adolph Shoemaker   40   Male       0               0           1   \n",
            "32      Adolph Taylor   50   Male       1               0           0   \n",
            "33      Adrian Arnold   50   Male       0               0           0   \n",
            "34      Adrian Manley   40   Male       0               0           0   \n",
            "35    Adrian Reynolds   60   Male       0               0           1   \n",
            "36      Adrian Robert   90   Male       0               1           0   \n",
            "37       Adrian Scott   40   Male       1               1           0   \n",
            "38    Agustin Wheeler   60   Male       0               0           0   \n",
            "39      Alan Bechtold   10   Male       1               0           0   \n",
            "40          Alan Bobo   20   Male       0               0           1   \n",
            "41         Alan Himes   20   Male       1               0           1   \n",
            "42    Alan Larochelle   40   Male       0               1           0   \n",
            "43        Alan Maiden   40   Male       0               0           0   \n",
            "44        Alan Rogers   60   Male       0               1           0   \n",
            "45        Alan Rosado   60   Male       0               0           0   \n",
            "46     Albert Barbour   20   Male       1               0           0   \n",
            "47      Albert Bishop   50   Male       0               0           0   \n",
            "48     Albert Bostrom   50   Male       0               0           0   \n",
            "49       Albert Clark   60   Male       0               0           0   \n",
            "50     Albert Jacquez   40   Male       0               0           0   \n",
            "51       Albert Jones   40   Male       0               0           0   \n",
            "52      Albert Kelley   90   Male       0               0           0   \n",
            "53        Albert Kiel   60   Male       0               0           0   \n",
            "54       Albert Lease   40   Male       0               1           0   \n",
            "\n",
            "    Insulin Down Readmitted Status  Medications A1C Level  \n",
            "0              0           Unknown            1   Unknown  \n",
            "1              0           Unknown            1   Unknown  \n",
            "2              0           Unknown            1        >8  \n",
            "3              1           Unknown            1   Unknown  \n",
            "4              0           Unknown            1   Unknown  \n",
            "5              0           Unknown            1   Unknown  \n",
            "6              0           Unknown            1        >7  \n",
            "7              0           Unknown            1   Unknown  \n",
            "8              0           Unknown            1       >8.  \n",
            "9              0           Unknown            1   Unknown  \n",
            "10             0           Unknown            1   Unknown  \n",
            "11             0           Unknown            1        >8  \n",
            "12             0           Unknown            1        >8  \n",
            "13             0           Unknown            0   Unknown  \n",
            "14             0           Unknown            1   Unknown  \n",
            "15             0           Unknown            0   Unknown  \n",
            "16             0           Unknown            1   Unknown  \n",
            "17             1           Unknown            1   Unknown  \n",
            "18             0           Unknown            0   Unknown  \n",
            "19             0           Unknown            1        >8  \n",
            "20             0           Unknown            1        >8  \n",
            "21             1           Unknown            1        >8  \n",
            "22             0           Unknown            0   Unknown  \n",
            "23             0           Unknown            1        >8  \n",
            "24             1           Unknown            1   Unknown  \n",
            "25             0           Unknown            1   Unknown  \n",
            "26             0           Unknown            1        >7  \n",
            "27             0           Unknown            1   Unknown  \n",
            "28             0           Unknown            1   Unknown  \n",
            "29             0           Unknown            1        >8  \n",
            "30             1           Unknown            1        >8  \n",
            "31             0           Unknown            1   Unknown  \n",
            "32             1           Unknown            1   Unknown  \n",
            "33             0           Unknown            1      Norm  \n",
            "34             0           Unknown            1   Unknown  \n",
            "35             0           Unknown            1   Unknown  \n",
            "36             0           Unknown            1   Unknown  \n",
            "37             0           Unknown            1   Unknown  \n",
            "38             0           Unknown            1   Unknown  \n",
            "39             1           Unknown            1   Unknown  \n",
            "40             0           Unknown            1   Unknown  \n",
            "41             0           Unknown            1        >8  \n",
            "42             0           Unknown            1        >8  \n",
            "43             0           Unknown            1   Unknown  \n",
            "44             0           Unknown            1   Unknown  \n",
            "45             1           Unknown            1        >8  \n",
            "46             0           Unknown            1   Unknown  \n",
            "47             1           Unknown            1   Unknown  \n",
            "48             0           Unknown            0   Unknown  \n",
            "49             0           Unknown            1   Unknown  \n",
            "50             0           Unknown            1   Unknown  \n",
            "51             1           Unknown            1        >7  \n",
            "52             0           Unknown            0        >8  \n",
            "53             0           Unknown            0   Unknown  \n",
            "54             0           Unknown            1        >7  \n"
          ]
        }
      ]
    },
    {
      "cell_type": "code",
      "source": [
        "print(db)"
      ],
      "metadata": {
        "colab": {
          "base_uri": "https://localhost:8080/"
        },
        "id": "Tru0D2XEKLF3",
        "outputId": "9e565afb-3f32-44ad-aee7-f95f2f1a927c"
      },
      "execution_count": 34,
      "outputs": [
        {
          "output_type": "stream",
          "name": "stdout",
          "text": [
            "         Patient Name  Age Gender  Output  Insulin Steady  Insulin Up  \\\n",
            "0     Aaron Abernathy   70   Male       0               0           1   \n",
            "1        Aaron Barker   70   Male       1               0           0   \n",
            "2        Aaron Carder   30   Male       0               0           0   \n",
            "3       Aaron Clayton   80   Male       0               0           0   \n",
            "4        Aaron Fallis   50   Male       0               0           0   \n",
            "5        Aaron Foster   30   Male       1               1           0   \n",
            "6        Aaron Fowler   70   Male       0               0           0   \n",
            "7       Aaron Kennedy   70   Male       0               0           0   \n",
            "8        Aaron Landes   50   Male       1               0           1   \n",
            "9        Aaron Pierre   60   Male       0               0           1   \n",
            "10      Aaron Shannon   60   Male       0               0           0   \n",
            "11       Aaron Torres   60   Male       0               1           0   \n",
            "12        Aaron Walsh   50   Male       0               0           0   \n",
            "13     Abel Rhinehart   10   Male       1               0           0   \n",
            "14      Abraham Britt   70   Male       0               0           0   \n",
            "15  Adalberto Garnett   50   Male       1               0           0   \n",
            "16      Adam Blubaugh   30   Male       0               0           1   \n",
            "17        Adam Fuller   20   Male       1               0           0   \n",
            "18       Adam Hawkins   40   Male       0               0           0   \n",
            "19       Adam Kennedy   10   Male       1               1           0   \n",
            "20       Adam Maxwell   20   Male       0               0           0   \n",
            "21       Adam Niblett   40   Male       0               0           0   \n",
            "22       Adam Parrish   70   Male       0               0           0   \n",
            "23      Adam Sullivan   50   Male       0               0           1   \n",
            "24        Adam Sutton   40   Male       1               0           0   \n",
            "25       Adam Sweeney   50   Male       0               0           1   \n",
            "26       Adam Yoshida   40   Male       1               1           0   \n",
            "27         Adan Faust   80   Male       0               0           0   \n",
            "28        Adan Graham   70   Male       1               0           1   \n",
            "29       Adolfo Guion   80   Male       0               0           1   \n",
            "30    Adolph Phillips   70   Male       0               0           0   \n",
            "31   Adolph Shoemaker   40   Male       0               0           1   \n",
            "32      Adolph Taylor   50   Male       1               0           0   \n",
            "33      Adrian Arnold   50   Male       0               0           0   \n",
            "34      Adrian Manley   40   Male       0               0           0   \n",
            "35    Adrian Reynolds   60   Male       0               0           1   \n",
            "36      Adrian Robert   90   Male       0               1           0   \n",
            "37       Adrian Scott   40   Male       1               1           0   \n",
            "38    Agustin Wheeler   60   Male       0               0           0   \n",
            "39      Alan Bechtold   10   Male       1               0           0   \n",
            "40          Alan Bobo   20   Male       0               0           1   \n",
            "41         Alan Himes   20   Male       1               0           1   \n",
            "42    Alan Larochelle   40   Male       0               1           0   \n",
            "43        Alan Maiden   40   Male       0               0           0   \n",
            "44        Alan Rogers   60   Male       0               1           0   \n",
            "45        Alan Rosado   60   Male       0               0           0   \n",
            "46     Albert Barbour   20   Male       1               0           0   \n",
            "47      Albert Bishop   50   Male       0               0           0   \n",
            "48     Albert Bostrom   50   Male       0               0           0   \n",
            "49       Albert Clark   60   Male       0               0           0   \n",
            "50     Albert Jacquez   40   Male       0               0           0   \n",
            "51       Albert Jones   40   Male       0               0           0   \n",
            "52      Albert Kelley   90   Male       0               0           0   \n",
            "53        Albert Kiel   60   Male       0               0           0   \n",
            "54       Albert Lease   40   Male       0               1           0   \n",
            "\n",
            "    Insulin Down Readmitted Status  Medications A1C Level  \n",
            "0              0           Unknown            1   Unknown  \n",
            "1              0           Unknown            1   Unknown  \n",
            "2              0           Unknown            1        >8  \n",
            "3              1           Unknown            1   Unknown  \n",
            "4              0           Unknown            1   Unknown  \n",
            "5              0           Unknown            1   Unknown  \n",
            "6              0           Unknown            1        >7  \n",
            "7              0           Unknown            1   Unknown  \n",
            "8              0           Unknown            1       >8.  \n",
            "9              0           Unknown            1   Unknown  \n",
            "10             0           Unknown            1   Unknown  \n",
            "11             0           Unknown            1        >8  \n",
            "12             0           Unknown            1        >8  \n",
            "13             0           Unknown            0   Unknown  \n",
            "14             0           Unknown            1   Unknown  \n",
            "15             0           Unknown            0   Unknown  \n",
            "16             0           Unknown            1   Unknown  \n",
            "17             1           Unknown            1   Unknown  \n",
            "18             0           Unknown            0   Unknown  \n",
            "19             0           Unknown            1        >8  \n",
            "20             0           Unknown            1        >8  \n",
            "21             1           Unknown            1        >8  \n",
            "22             0           Unknown            0   Unknown  \n",
            "23             0           Unknown            1        >8  \n",
            "24             1           Unknown            1   Unknown  \n",
            "25             0           Unknown            1   Unknown  \n",
            "26             0           Unknown            1        >7  \n",
            "27             0           Unknown            1   Unknown  \n",
            "28             0           Unknown            1   Unknown  \n",
            "29             0           Unknown            1        >8  \n",
            "30             1           Unknown            1        >8  \n",
            "31             0           Unknown            1   Unknown  \n",
            "32             1           Unknown            1   Unknown  \n",
            "33             0           Unknown            1      Norm  \n",
            "34             0           Unknown            1   Unknown  \n",
            "35             0           Unknown            1   Unknown  \n",
            "36             0           Unknown            1   Unknown  \n",
            "37             0           Unknown            1   Unknown  \n",
            "38             0           Unknown            1   Unknown  \n",
            "39             1           Unknown            1   Unknown  \n",
            "40             0           Unknown            1   Unknown  \n",
            "41             0           Unknown            1        >8  \n",
            "42             0           Unknown            1        >8  \n",
            "43             0           Unknown            1   Unknown  \n",
            "44             0           Unknown            1   Unknown  \n",
            "45             1           Unknown            1        >8  \n",
            "46             0           Unknown            1   Unknown  \n",
            "47             1           Unknown            1   Unknown  \n",
            "48             0           Unknown            0   Unknown  \n",
            "49             0           Unknown            1   Unknown  \n",
            "50             0           Unknown            1   Unknown  \n",
            "51             1           Unknown            1        >7  \n",
            "52             0           Unknown            0        >8  \n",
            "53             0           Unknown            0   Unknown  \n",
            "54             0           Unknown            1        >7  \n"
          ]
        }
      ]
    },
    {
      "cell_type": "code",
      "source": [
        "#number of rows and columns in this dataset\n",
        "db.shape"
      ],
      "metadata": {
        "colab": {
          "base_uri": "https://localhost:8080/"
        },
        "id": "dhpaySLkRjqh",
        "outputId": "a83fab1b-7c9c-4229-b052-4a57a0479db9"
      },
      "execution_count": 35,
      "outputs": [
        {
          "output_type": "execute_result",
          "data": {
            "text/plain": [
              "(55, 10)"
            ]
          },
          "metadata": {},
          "execution_count": 35
        }
      ]
    },
    {
      "cell_type": "code",
      "source": [
        "\n",
        "# Assuming you have your dataset stored in a DataFrame named 'df'\n",
        "# Replace 'df' with the actual variable name of your DataFrame\n",
        "\n",
        "indexInsulin = db[(db['Insulin Steady'] == 0) & (db['Insulin Up'] == 0) & (db['Insulin Down'] == 0)].index\n",
        "db.drop(indexInsulin, inplace=True)\n",
        "print(db)\n"
      ],
      "metadata": {
        "colab": {
          "base_uri": "https://localhost:8080/"
        },
        "id": "J_QXXgw1QyNI",
        "outputId": "99bebcdc-7f0a-4898-f6d2-2f16dc36e443"
      },
      "execution_count": 78,
      "outputs": [
        {
          "output_type": "stream",
          "name": "stdout",
          "text": [
            "        Patient Name  Age Gender  Output  Insulin Steady  Insulin Up  \\\n",
            "0    Aaron Abernathy   70   Male       0               0           1   \n",
            "3      Aaron Clayton   80   Male       0               0           0   \n",
            "5       Aaron Foster   30   Male       1               1           0   \n",
            "8       Aaron Landes   50   Male       1               0           1   \n",
            "9       Aaron Pierre   60   Male       0               0           1   \n",
            "11      Aaron Torres   60   Male       0               1           0   \n",
            "16     Adam Blubaugh   30   Male       0               0           1   \n",
            "17       Adam Fuller   20   Male       1               0           0   \n",
            "19      Adam Kennedy   10   Male       1               1           0   \n",
            "21      Adam Niblett   40   Male       0               0           0   \n",
            "23     Adam Sullivan   50   Male       0               0           1   \n",
            "24       Adam Sutton   40   Male       1               0           0   \n",
            "25      Adam Sweeney   50   Male       0               0           1   \n",
            "26      Adam Yoshida   40   Male       1               1           0   \n",
            "28       Adan Graham   70   Male       1               0           1   \n",
            "29      Adolfo Guion   80   Male       0               0           1   \n",
            "30   Adolph Phillips   70   Male       0               0           0   \n",
            "31  Adolph Shoemaker   40   Male       0               0           1   \n",
            "32     Adolph Taylor   50   Male       1               0           0   \n",
            "35   Adrian Reynolds   60   Male       0               0           1   \n",
            "36     Adrian Robert   90   Male       0               1           0   \n",
            "37      Adrian Scott   40   Male       1               1           0   \n",
            "39     Alan Bechtold   10   Male       1               0           0   \n",
            "40         Alan Bobo   20   Male       0               0           1   \n",
            "41        Alan Himes   20   Male       1               0           1   \n",
            "42   Alan Larochelle   40   Male       0               1           0   \n",
            "44       Alan Rogers   60   Male       0               1           0   \n",
            "45       Alan Rosado   60   Male       0               0           0   \n",
            "47     Albert Bishop   50   Male       0               0           0   \n",
            "51      Albert Jones   40   Male       0               0           0   \n",
            "54      Albert Lease   40   Male       0               1           0   \n",
            "\n",
            "    Insulin Down Readmitted Status  Medications A1C Level  \n",
            "0              0           Unknown            1   Unknown  \n",
            "3              1           Unknown            1   Unknown  \n",
            "5              0           Unknown            1   Unknown  \n",
            "8              0           Unknown            1       >8.  \n",
            "9              0           Unknown            1   Unknown  \n",
            "11             0           Unknown            1        >8  \n",
            "16             0           Unknown            1   Unknown  \n",
            "17             1           Unknown            1   Unknown  \n",
            "19             0           Unknown            1        >8  \n",
            "21             1           Unknown            1        >8  \n",
            "23             0           Unknown            1        >8  \n",
            "24             1           Unknown            1   Unknown  \n",
            "25             0           Unknown            1   Unknown  \n",
            "26             0           Unknown            1        >7  \n",
            "28             0           Unknown            1   Unknown  \n",
            "29             0           Unknown            1        >8  \n",
            "30             1           Unknown            1        >8  \n",
            "31             0           Unknown            1   Unknown  \n",
            "32             1           Unknown            1   Unknown  \n",
            "35             0           Unknown            1   Unknown  \n",
            "36             0           Unknown            1   Unknown  \n",
            "37             0           Unknown            1   Unknown  \n",
            "39             1           Unknown            1   Unknown  \n",
            "40             0           Unknown            1   Unknown  \n",
            "41             0           Unknown            1        >8  \n",
            "42             0           Unknown            1        >8  \n",
            "44             0           Unknown            1   Unknown  \n",
            "45             1           Unknown            1        >8  \n",
            "47             1           Unknown            1   Unknown  \n",
            "51             1           Unknown            1        >7  \n",
            "54             0           Unknown            1        >7  \n"
          ]
        }
      ]
    },
    {
      "cell_type": "code",
      "source": [
        "#seperating the data and labels\n",
        "X = db.drop(columns=['Output','Gender','Patient Name','Readmitted Status','A1C Level'], axis=1)\n",
        "\n",
        "Y=db['Output']"
      ],
      "metadata": {
        "id": "uCMTr85wZKDC"
      },
      "execution_count": 71,
      "outputs": []
    },
    {
      "cell_type": "code",
      "source": [
        "#number of rows and columns in this dataset\n",
        "db.shape"
      ],
      "metadata": {
        "colab": {
          "base_uri": "https://localhost:8080/"
        },
        "id": "i-7ylDYUqkmr",
        "outputId": "69ff295d-cb0a-4e45-e7fe-af1443e5b25a"
      },
      "execution_count": 79,
      "outputs": [
        {
          "output_type": "execute_result",
          "data": {
            "text/plain": [
              "(31, 10)"
            ]
          },
          "metadata": {},
          "execution_count": 79
        }
      ]
    },
    {
      "cell_type": "code",
      "source": [
        "print(X)"
      ],
      "metadata": {
        "colab": {
          "base_uri": "https://localhost:8080/"
        },
        "id": "yqh33bfbZPGd",
        "outputId": "6b50385d-6617-4017-db24-6bfafc6d8a34"
      },
      "execution_count": 80,
      "outputs": [
        {
          "output_type": "stream",
          "name": "stdout",
          "text": [
            "    Age  Insulin Steady  Insulin Up  Insulin Down  Medications\n",
            "0    70               0           1             0            1\n",
            "3    80               0           0             1            1\n",
            "5    30               1           0             0            1\n",
            "8    50               0           1             0            1\n",
            "9    60               0           1             0            1\n",
            "11   60               1           0             0            1\n",
            "16   30               0           1             0            1\n",
            "17   20               0           0             1            1\n",
            "19   10               1           0             0            1\n",
            "21   40               0           0             1            1\n",
            "23   50               0           1             0            1\n",
            "24   40               0           0             1            1\n",
            "25   50               0           1             0            1\n",
            "26   40               1           0             0            1\n",
            "28   70               0           1             0            1\n",
            "29   80               0           1             0            1\n",
            "30   70               0           0             1            1\n",
            "31   40               0           1             0            1\n",
            "32   50               0           0             1            1\n",
            "35   60               0           1             0            1\n",
            "36   90               1           0             0            1\n",
            "37   40               1           0             0            1\n",
            "39   10               0           0             1            1\n",
            "40   20               0           1             0            1\n",
            "41   20               0           1             0            1\n",
            "42   40               1           0             0            1\n",
            "44   60               1           0             0            1\n",
            "45   60               0           0             1            1\n",
            "47   50               0           0             1            1\n",
            "51   40               0           0             1            1\n",
            "54   40               1           0             0            1\n"
          ]
        }
      ]
    },
    {
      "cell_type": "code",
      "source": [
        "print(Y)"
      ],
      "metadata": {
        "colab": {
          "base_uri": "https://localhost:8080/"
        },
        "id": "ZH_VAVOVZUtp",
        "outputId": "24b26491-479d-4285-911a-7a2ab6654ab2"
      },
      "execution_count": 81,
      "outputs": [
        {
          "output_type": "stream",
          "name": "stdout",
          "text": [
            "0     0\n",
            "3     0\n",
            "5     1\n",
            "8     1\n",
            "9     0\n",
            "11    0\n",
            "16    0\n",
            "17    1\n",
            "19    1\n",
            "21    0\n",
            "23    0\n",
            "24    1\n",
            "25    0\n",
            "26    1\n",
            "28    1\n",
            "29    0\n",
            "30    0\n",
            "31    0\n",
            "32    1\n",
            "35    0\n",
            "36    0\n",
            "37    1\n",
            "39    1\n",
            "40    0\n",
            "41    1\n",
            "42    0\n",
            "44    0\n",
            "45    0\n",
            "47    0\n",
            "51    0\n",
            "54    0\n",
            "Name: Output, dtype: int64\n"
          ]
        }
      ]
    },
    {
      "cell_type": "code",
      "source": [
        "#getting the statistical measrures of the data\n",
        "db.describe()"
      ],
      "metadata": {
        "colab": {
          "base_uri": "https://localhost:8080/",
          "height": 300
        },
        "id": "SNOuFPwERyOf",
        "outputId": "37dc59b0-0b29-4f4f-c191-5e03a61436b7"
      },
      "execution_count": 82,
      "outputs": [
        {
          "output_type": "execute_result",
          "data": {
            "text/plain": [
              "             Age     Output  Insulin Steady  Insulin Up  Insulin Down  \\\n",
              "count  31.000000  31.000000       31.000000   31.000000     31.000000   \n",
              "mean   47.419355   0.354839        0.290323    0.387097      0.322581   \n",
              "std    20.325311   0.486373        0.461414    0.495138      0.475191   \n",
              "min    10.000000   0.000000        0.000000    0.000000      0.000000   \n",
              "25%    40.000000   0.000000        0.000000    0.000000      0.000000   \n",
              "50%    50.000000   0.000000        0.000000    0.000000      0.000000   \n",
              "75%    60.000000   1.000000        1.000000    1.000000      1.000000   \n",
              "max    90.000000   1.000000        1.000000    1.000000      1.000000   \n",
              "\n",
              "       Medications  \n",
              "count         31.0  \n",
              "mean           1.0  \n",
              "std            0.0  \n",
              "min            1.0  \n",
              "25%            1.0  \n",
              "50%            1.0  \n",
              "75%            1.0  \n",
              "max            1.0  "
            ],
            "text/html": [
              "\n",
              "  <div id=\"df-cc6c9f08-985c-4ab4-bc89-3344288a1bcc\">\n",
              "    <div class=\"colab-df-container\">\n",
              "      <div>\n",
              "<style scoped>\n",
              "    .dataframe tbody tr th:only-of-type {\n",
              "        vertical-align: middle;\n",
              "    }\n",
              "\n",
              "    .dataframe tbody tr th {\n",
              "        vertical-align: top;\n",
              "    }\n",
              "\n",
              "    .dataframe thead th {\n",
              "        text-align: right;\n",
              "    }\n",
              "</style>\n",
              "<table border=\"1\" class=\"dataframe\">\n",
              "  <thead>\n",
              "    <tr style=\"text-align: right;\">\n",
              "      <th></th>\n",
              "      <th>Age</th>\n",
              "      <th>Output</th>\n",
              "      <th>Insulin Steady</th>\n",
              "      <th>Insulin Up</th>\n",
              "      <th>Insulin Down</th>\n",
              "      <th>Medications</th>\n",
              "    </tr>\n",
              "  </thead>\n",
              "  <tbody>\n",
              "    <tr>\n",
              "      <th>count</th>\n",
              "      <td>31.000000</td>\n",
              "      <td>31.000000</td>\n",
              "      <td>31.000000</td>\n",
              "      <td>31.000000</td>\n",
              "      <td>31.000000</td>\n",
              "      <td>31.0</td>\n",
              "    </tr>\n",
              "    <tr>\n",
              "      <th>mean</th>\n",
              "      <td>47.419355</td>\n",
              "      <td>0.354839</td>\n",
              "      <td>0.290323</td>\n",
              "      <td>0.387097</td>\n",
              "      <td>0.322581</td>\n",
              "      <td>1.0</td>\n",
              "    </tr>\n",
              "    <tr>\n",
              "      <th>std</th>\n",
              "      <td>20.325311</td>\n",
              "      <td>0.486373</td>\n",
              "      <td>0.461414</td>\n",
              "      <td>0.495138</td>\n",
              "      <td>0.475191</td>\n",
              "      <td>0.0</td>\n",
              "    </tr>\n",
              "    <tr>\n",
              "      <th>min</th>\n",
              "      <td>10.000000</td>\n",
              "      <td>0.000000</td>\n",
              "      <td>0.000000</td>\n",
              "      <td>0.000000</td>\n",
              "      <td>0.000000</td>\n",
              "      <td>1.0</td>\n",
              "    </tr>\n",
              "    <tr>\n",
              "      <th>25%</th>\n",
              "      <td>40.000000</td>\n",
              "      <td>0.000000</td>\n",
              "      <td>0.000000</td>\n",
              "      <td>0.000000</td>\n",
              "      <td>0.000000</td>\n",
              "      <td>1.0</td>\n",
              "    </tr>\n",
              "    <tr>\n",
              "      <th>50%</th>\n",
              "      <td>50.000000</td>\n",
              "      <td>0.000000</td>\n",
              "      <td>0.000000</td>\n",
              "      <td>0.000000</td>\n",
              "      <td>0.000000</td>\n",
              "      <td>1.0</td>\n",
              "    </tr>\n",
              "    <tr>\n",
              "      <th>75%</th>\n",
              "      <td>60.000000</td>\n",
              "      <td>1.000000</td>\n",
              "      <td>1.000000</td>\n",
              "      <td>1.000000</td>\n",
              "      <td>1.000000</td>\n",
              "      <td>1.0</td>\n",
              "    </tr>\n",
              "    <tr>\n",
              "      <th>max</th>\n",
              "      <td>90.000000</td>\n",
              "      <td>1.000000</td>\n",
              "      <td>1.000000</td>\n",
              "      <td>1.000000</td>\n",
              "      <td>1.000000</td>\n",
              "      <td>1.0</td>\n",
              "    </tr>\n",
              "  </tbody>\n",
              "</table>\n",
              "</div>\n",
              "      <button class=\"colab-df-convert\" onclick=\"convertToInteractive('df-cc6c9f08-985c-4ab4-bc89-3344288a1bcc')\"\n",
              "              title=\"Convert this dataframe to an interactive table.\"\n",
              "              style=\"display:none;\">\n",
              "        \n",
              "  <svg xmlns=\"http://www.w3.org/2000/svg\" height=\"24px\"viewBox=\"0 0 24 24\"\n",
              "       width=\"24px\">\n",
              "    <path d=\"M0 0h24v24H0V0z\" fill=\"none\"/>\n",
              "    <path d=\"M18.56 5.44l.94 2.06.94-2.06 2.06-.94-2.06-.94-.94-2.06-.94 2.06-2.06.94zm-11 1L8.5 8.5l.94-2.06 2.06-.94-2.06-.94L8.5 2.5l-.94 2.06-2.06.94zm10 10l.94 2.06.94-2.06 2.06-.94-2.06-.94-.94-2.06-.94 2.06-2.06.94z\"/><path d=\"M17.41 7.96l-1.37-1.37c-.4-.4-.92-.59-1.43-.59-.52 0-1.04.2-1.43.59L10.3 9.45l-7.72 7.72c-.78.78-.78 2.05 0 2.83L4 21.41c.39.39.9.59 1.41.59.51 0 1.02-.2 1.41-.59l7.78-7.78 2.81-2.81c.8-.78.8-2.07 0-2.86zM5.41 20L4 18.59l7.72-7.72 1.47 1.35L5.41 20z\"/>\n",
              "  </svg>\n",
              "      </button>\n",
              "      \n",
              "  <style>\n",
              "    .colab-df-container {\n",
              "      display:flex;\n",
              "      flex-wrap:wrap;\n",
              "      gap: 12px;\n",
              "    }\n",
              "\n",
              "    .colab-df-convert {\n",
              "      background-color: #E8F0FE;\n",
              "      border: none;\n",
              "      border-radius: 50%;\n",
              "      cursor: pointer;\n",
              "      display: none;\n",
              "      fill: #1967D2;\n",
              "      height: 32px;\n",
              "      padding: 0 0 0 0;\n",
              "      width: 32px;\n",
              "    }\n",
              "\n",
              "    .colab-df-convert:hover {\n",
              "      background-color: #E2EBFA;\n",
              "      box-shadow: 0px 1px 2px rgba(60, 64, 67, 0.3), 0px 1px 3px 1px rgba(60, 64, 67, 0.15);\n",
              "      fill: #174EA6;\n",
              "    }\n",
              "\n",
              "    [theme=dark] .colab-df-convert {\n",
              "      background-color: #3B4455;\n",
              "      fill: #D2E3FC;\n",
              "    }\n",
              "\n",
              "    [theme=dark] .colab-df-convert:hover {\n",
              "      background-color: #434B5C;\n",
              "      box-shadow: 0px 1px 3px 1px rgba(0, 0, 0, 0.15);\n",
              "      filter: drop-shadow(0px 1px 2px rgba(0, 0, 0, 0.3));\n",
              "      fill: #FFFFFF;\n",
              "    }\n",
              "  </style>\n",
              "\n",
              "      <script>\n",
              "        const buttonEl =\n",
              "          document.querySelector('#df-cc6c9f08-985c-4ab4-bc89-3344288a1bcc button.colab-df-convert');\n",
              "        buttonEl.style.display =\n",
              "          google.colab.kernel.accessAllowed ? 'block' : 'none';\n",
              "\n",
              "        async function convertToInteractive(key) {\n",
              "          const element = document.querySelector('#df-cc6c9f08-985c-4ab4-bc89-3344288a1bcc');\n",
              "          const dataTable =\n",
              "            await google.colab.kernel.invokeFunction('convertToInteractive',\n",
              "                                                     [key], {});\n",
              "          if (!dataTable) return;\n",
              "\n",
              "          const docLinkHtml = 'Like what you see? Visit the ' +\n",
              "            '<a target=\"_blank\" href=https://colab.research.google.com/notebooks/data_table.ipynb>data table notebook</a>'\n",
              "            + ' to learn more about interactive tables.';\n",
              "          element.innerHTML = '';\n",
              "          dataTable['output_type'] = 'display_data';\n",
              "          await google.colab.output.renderOutput(dataTable, element);\n",
              "          const docLink = document.createElement('div');\n",
              "          docLink.innerHTML = docLinkHtml;\n",
              "          element.appendChild(docLink);\n",
              "        }\n",
              "      </script>\n",
              "    </div>\n",
              "  </div>\n",
              "  "
            ]
          },
          "metadata": {},
          "execution_count": 82
        }
      ]
    },
    {
      "cell_type": "code",
      "source": [
        "db['Output'].value_counts()"
      ],
      "metadata": {
        "colab": {
          "base_uri": "https://localhost:8080/"
        },
        "id": "fOI348yUSF8D",
        "outputId": "7c378fd7-300a-4cbb-c122-9c6cd2ad4807"
      },
      "execution_count": 83,
      "outputs": [
        {
          "output_type": "execute_result",
          "data": {
            "text/plain": [
              "0    20\n",
              "1    11\n",
              "Name: Output, dtype: int64"
            ]
          },
          "metadata": {},
          "execution_count": 83
        }
      ]
    },
    {
      "cell_type": "markdown",
      "source": [
        "0--> Type 2\n",
        "1--> Type 1"
      ],
      "metadata": {
        "id": "NDFD04_nqOL_"
      }
    },
    {
      "cell_type": "code",
      "source": [
        "db.groupby('Output').mean()"
      ],
      "metadata": {
        "id": "pys2NwV0TUI5",
        "colab": {
          "base_uri": "https://localhost:8080/",
          "height": 198
        },
        "outputId": "f7f8c185-f915-422d-c5c4-e3eba35847f4"
      },
      "execution_count": 84,
      "outputs": [
        {
          "output_type": "stream",
          "name": "stderr",
          "text": [
            "<ipython-input-84-bd5f46328d7b>:1: FutureWarning: The default value of numeric_only in DataFrameGroupBy.mean is deprecated. In a future version, numeric_only will default to False. Either specify numeric_only or select only columns which should be valid for the function.\n",
            "  db.groupby('Output').mean()\n"
          ]
        },
        {
          "output_type": "execute_result",
          "data": {
            "text/plain": [
              "              Age  Insulin Steady  Insulin Up  Insulin Down  Medications\n",
              "Output                                                                  \n",
              "0       54.500000        0.250000    0.450000      0.300000          1.0\n",
              "1       34.545455        0.363636    0.272727      0.363636          1.0"
            ],
            "text/html": [
              "\n",
              "  <div id=\"df-06848f0e-2465-459c-8993-8ccba0ea63e4\">\n",
              "    <div class=\"colab-df-container\">\n",
              "      <div>\n",
              "<style scoped>\n",
              "    .dataframe tbody tr th:only-of-type {\n",
              "        vertical-align: middle;\n",
              "    }\n",
              "\n",
              "    .dataframe tbody tr th {\n",
              "        vertical-align: top;\n",
              "    }\n",
              "\n",
              "    .dataframe thead th {\n",
              "        text-align: right;\n",
              "    }\n",
              "</style>\n",
              "<table border=\"1\" class=\"dataframe\">\n",
              "  <thead>\n",
              "    <tr style=\"text-align: right;\">\n",
              "      <th></th>\n",
              "      <th>Age</th>\n",
              "      <th>Insulin Steady</th>\n",
              "      <th>Insulin Up</th>\n",
              "      <th>Insulin Down</th>\n",
              "      <th>Medications</th>\n",
              "    </tr>\n",
              "    <tr>\n",
              "      <th>Output</th>\n",
              "      <th></th>\n",
              "      <th></th>\n",
              "      <th></th>\n",
              "      <th></th>\n",
              "      <th></th>\n",
              "    </tr>\n",
              "  </thead>\n",
              "  <tbody>\n",
              "    <tr>\n",
              "      <th>0</th>\n",
              "      <td>54.500000</td>\n",
              "      <td>0.250000</td>\n",
              "      <td>0.450000</td>\n",
              "      <td>0.300000</td>\n",
              "      <td>1.0</td>\n",
              "    </tr>\n",
              "    <tr>\n",
              "      <th>1</th>\n",
              "      <td>34.545455</td>\n",
              "      <td>0.363636</td>\n",
              "      <td>0.272727</td>\n",
              "      <td>0.363636</td>\n",
              "      <td>1.0</td>\n",
              "    </tr>\n",
              "  </tbody>\n",
              "</table>\n",
              "</div>\n",
              "      <button class=\"colab-df-convert\" onclick=\"convertToInteractive('df-06848f0e-2465-459c-8993-8ccba0ea63e4')\"\n",
              "              title=\"Convert this dataframe to an interactive table.\"\n",
              "              style=\"display:none;\">\n",
              "        \n",
              "  <svg xmlns=\"http://www.w3.org/2000/svg\" height=\"24px\"viewBox=\"0 0 24 24\"\n",
              "       width=\"24px\">\n",
              "    <path d=\"M0 0h24v24H0V0z\" fill=\"none\"/>\n",
              "    <path d=\"M18.56 5.44l.94 2.06.94-2.06 2.06-.94-2.06-.94-.94-2.06-.94 2.06-2.06.94zm-11 1L8.5 8.5l.94-2.06 2.06-.94-2.06-.94L8.5 2.5l-.94 2.06-2.06.94zm10 10l.94 2.06.94-2.06 2.06-.94-2.06-.94-.94-2.06-.94 2.06-2.06.94z\"/><path d=\"M17.41 7.96l-1.37-1.37c-.4-.4-.92-.59-1.43-.59-.52 0-1.04.2-1.43.59L10.3 9.45l-7.72 7.72c-.78.78-.78 2.05 0 2.83L4 21.41c.39.39.9.59 1.41.59.51 0 1.02-.2 1.41-.59l7.78-7.78 2.81-2.81c.8-.78.8-2.07 0-2.86zM5.41 20L4 18.59l7.72-7.72 1.47 1.35L5.41 20z\"/>\n",
              "  </svg>\n",
              "      </button>\n",
              "      \n",
              "  <style>\n",
              "    .colab-df-container {\n",
              "      display:flex;\n",
              "      flex-wrap:wrap;\n",
              "      gap: 12px;\n",
              "    }\n",
              "\n",
              "    .colab-df-convert {\n",
              "      background-color: #E8F0FE;\n",
              "      border: none;\n",
              "      border-radius: 50%;\n",
              "      cursor: pointer;\n",
              "      display: none;\n",
              "      fill: #1967D2;\n",
              "      height: 32px;\n",
              "      padding: 0 0 0 0;\n",
              "      width: 32px;\n",
              "    }\n",
              "\n",
              "    .colab-df-convert:hover {\n",
              "      background-color: #E2EBFA;\n",
              "      box-shadow: 0px 1px 2px rgba(60, 64, 67, 0.3), 0px 1px 3px 1px rgba(60, 64, 67, 0.15);\n",
              "      fill: #174EA6;\n",
              "    }\n",
              "\n",
              "    [theme=dark] .colab-df-convert {\n",
              "      background-color: #3B4455;\n",
              "      fill: #D2E3FC;\n",
              "    }\n",
              "\n",
              "    [theme=dark] .colab-df-convert:hover {\n",
              "      background-color: #434B5C;\n",
              "      box-shadow: 0px 1px 3px 1px rgba(0, 0, 0, 0.15);\n",
              "      filter: drop-shadow(0px 1px 2px rgba(0, 0, 0, 0.3));\n",
              "      fill: #FFFFFF;\n",
              "    }\n",
              "  </style>\n",
              "\n",
              "      <script>\n",
              "        const buttonEl =\n",
              "          document.querySelector('#df-06848f0e-2465-459c-8993-8ccba0ea63e4 button.colab-df-convert');\n",
              "        buttonEl.style.display =\n",
              "          google.colab.kernel.accessAllowed ? 'block' : 'none';\n",
              "\n",
              "        async function convertToInteractive(key) {\n",
              "          const element = document.querySelector('#df-06848f0e-2465-459c-8993-8ccba0ea63e4');\n",
              "          const dataTable =\n",
              "            await google.colab.kernel.invokeFunction('convertToInteractive',\n",
              "                                                     [key], {});\n",
              "          if (!dataTable) return;\n",
              "\n",
              "          const docLinkHtml = 'Like what you see? Visit the ' +\n",
              "            '<a target=\"_blank\" href=https://colab.research.google.com/notebooks/data_table.ipynb>data table notebook</a>'\n",
              "            + ' to learn more about interactive tables.';\n",
              "          element.innerHTML = '';\n",
              "          dataTable['output_type'] = 'display_data';\n",
              "          await google.colab.output.renderOutput(dataTable, element);\n",
              "          const docLink = document.createElement('div');\n",
              "          docLink.innerHTML = docLinkHtml;\n",
              "          element.appendChild(docLink);\n",
              "        }\n",
              "      </script>\n",
              "    </div>\n",
              "  </div>\n",
              "  "
            ]
          },
          "metadata": {},
          "execution_count": 84
        }
      ]
    },
    {
      "cell_type": "code",
      "source": [
        "print(X)"
      ],
      "metadata": {
        "colab": {
          "base_uri": "https://localhost:8080/"
        },
        "id": "jmGtQshctTlp",
        "outputId": "24fc02c0-e7c1-4454-e0ec-bde3f1192572"
      },
      "execution_count": 85,
      "outputs": [
        {
          "output_type": "stream",
          "name": "stdout",
          "text": [
            "    Age  Insulin Steady  Insulin Up  Insulin Down  Medications\n",
            "0    70               0           1             0            1\n",
            "3    80               0           0             1            1\n",
            "5    30               1           0             0            1\n",
            "8    50               0           1             0            1\n",
            "9    60               0           1             0            1\n",
            "11   60               1           0             0            1\n",
            "16   30               0           1             0            1\n",
            "17   20               0           0             1            1\n",
            "19   10               1           0             0            1\n",
            "21   40               0           0             1            1\n",
            "23   50               0           1             0            1\n",
            "24   40               0           0             1            1\n",
            "25   50               0           1             0            1\n",
            "26   40               1           0             0            1\n",
            "28   70               0           1             0            1\n",
            "29   80               0           1             0            1\n",
            "30   70               0           0             1            1\n",
            "31   40               0           1             0            1\n",
            "32   50               0           0             1            1\n",
            "35   60               0           1             0            1\n",
            "36   90               1           0             0            1\n",
            "37   40               1           0             0            1\n",
            "39   10               0           0             1            1\n",
            "40   20               0           1             0            1\n",
            "41   20               0           1             0            1\n",
            "42   40               1           0             0            1\n",
            "44   60               1           0             0            1\n",
            "45   60               0           0             1            1\n",
            "47   50               0           0             1            1\n",
            "51   40               0           0             1            1\n",
            "54   40               1           0             0            1\n"
          ]
        }
      ]
    },
    {
      "cell_type": "code",
      "source": [
        "print(Y)"
      ],
      "metadata": {
        "colab": {
          "base_uri": "https://localhost:8080/"
        },
        "id": "FZGMZdActWjO",
        "outputId": "b4759bff-98c5-4cc0-a057-88efc3187ee5"
      },
      "execution_count": 86,
      "outputs": [
        {
          "output_type": "stream",
          "name": "stdout",
          "text": [
            "0     0\n",
            "3     0\n",
            "5     1\n",
            "8     1\n",
            "9     0\n",
            "11    0\n",
            "16    0\n",
            "17    1\n",
            "19    1\n",
            "21    0\n",
            "23    0\n",
            "24    1\n",
            "25    0\n",
            "26    1\n",
            "28    1\n",
            "29    0\n",
            "30    0\n",
            "31    0\n",
            "32    1\n",
            "35    0\n",
            "36    0\n",
            "37    1\n",
            "39    1\n",
            "40    0\n",
            "41    1\n",
            "42    0\n",
            "44    0\n",
            "45    0\n",
            "47    0\n",
            "51    0\n",
            "54    0\n",
            "Name: Output, dtype: int64\n"
          ]
        }
      ]
    },
    {
      "cell_type": "code",
      "source": [
        "#Data Standarization in particular range so machine learning model can make predection \n",
        "#scaler = StandardScaler()"
      ],
      "metadata": {
        "id": "e8-dsB5btl88"
      },
      "execution_count": 45,
      "outputs": []
    },
    {
      "cell_type": "code",
      "source": [
        "#scaler.fit(X)"
      ],
      "metadata": {
        "id": "G0sWcf3WuBrD"
      },
      "execution_count": 46,
      "outputs": []
    },
    {
      "cell_type": "code",
      "source": [
        "#standarized_data=scaler.transform(X)#this will transfrom the data in the same range "
      ],
      "metadata": {
        "id": "CHmcL3EXupj6"
      },
      "execution_count": 47,
      "outputs": []
    },
    {
      "cell_type": "code",
      "source": [
        "#print(standarized_data)"
      ],
      "metadata": {
        "id": "E3ntrlvAu4Ez"
      },
      "execution_count": 48,
      "outputs": []
    },
    {
      "cell_type": "code",
      "source": [
        "#X=standarized_data\n",
        "#Y=df['Output']"
      ],
      "metadata": {
        "id": "g2tN1cYKvHKT"
      },
      "execution_count": 49,
      "outputs": []
    },
    {
      "cell_type": "code",
      "source": [
        "#print(X) #X will give standarized data\n",
        "#print(Y)# Y wil give label of the outcome i.e diabetic or non-diabetic"
      ],
      "metadata": {
        "colab": {
          "base_uri": "https://localhost:8080/"
        },
        "id": "zApYlEV6xFQA",
        "outputId": "6b1cf064-d02b-4935-bff8-2ed463be6135"
      },
      "execution_count": 87,
      "outputs": [
        {
          "output_type": "stream",
          "name": "stdout",
          "text": [
            "    Age  Insulin Steady  Insulin Up  Insulin Down  Medications\n",
            "0    70               0           1             0            1\n",
            "3    80               0           0             1            1\n",
            "5    30               1           0             0            1\n",
            "8    50               0           1             0            1\n",
            "9    60               0           1             0            1\n",
            "11   60               1           0             0            1\n",
            "16   30               0           1             0            1\n",
            "17   20               0           0             1            1\n",
            "19   10               1           0             0            1\n",
            "21   40               0           0             1            1\n",
            "23   50               0           1             0            1\n",
            "24   40               0           0             1            1\n",
            "25   50               0           1             0            1\n",
            "26   40               1           0             0            1\n",
            "28   70               0           1             0            1\n",
            "29   80               0           1             0            1\n",
            "30   70               0           0             1            1\n",
            "31   40               0           1             0            1\n",
            "32   50               0           0             1            1\n",
            "35   60               0           1             0            1\n",
            "36   90               1           0             0            1\n",
            "37   40               1           0             0            1\n",
            "39   10               0           0             1            1\n",
            "40   20               0           1             0            1\n",
            "41   20               0           1             0            1\n",
            "42   40               1           0             0            1\n",
            "44   60               1           0             0            1\n",
            "45   60               0           0             1            1\n",
            "47   50               0           0             1            1\n",
            "51   40               0           0             1            1\n",
            "54   40               1           0             0            1\n",
            "0     0\n",
            "3     0\n",
            "5     1\n",
            "8     1\n",
            "9     0\n",
            "11    0\n",
            "16    0\n",
            "17    1\n",
            "19    1\n",
            "21    0\n",
            "23    0\n",
            "24    1\n",
            "25    0\n",
            "26    1\n",
            "28    1\n",
            "29    0\n",
            "30    0\n",
            "31    0\n",
            "32    1\n",
            "35    0\n",
            "36    0\n",
            "37    1\n",
            "39    1\n",
            "40    0\n",
            "41    1\n",
            "42    0\n",
            "44    0\n",
            "45    0\n",
            "47    0\n",
            "51    0\n",
            "54    0\n",
            "Name: Output, dtype: int64\n"
          ]
        }
      ]
    },
    {
      "cell_type": "markdown",
      "source": [
        "Spliting train and test data"
      ],
      "metadata": {
        "id": "M9VXdrmEyA6T"
      }
    },
    {
      "cell_type": "code",
      "source": [
        "X_train, X_test, Y_train, Y_test= train_test_split(X,Y, test_size=0.2,stratify=Y,random_state=2)#train_split_data is already imported from the from sklearn.model_selection import train_test_split\n",
        "#Y_train contains all the lebel for the X_train data and Y_test contains all the labels for the X_test data\n",
        "#stratify=Y means that the data will be split in a stratified manner, using Y as the class labels. This ensures that the proportion of each class in the training and test sets is the same as in the original data.\n",
        "#random_state=2 sets the random seed to ensure that the results are reproducible."
      ],
      "metadata": {
        "id": "MsiKeTgDxWyq"
      },
      "execution_count": 88,
      "outputs": []
    },
    {
      "cell_type": "code",
      "source": [
        "print(X.shape, X_train.shape,X_test.shape)"
      ],
      "metadata": {
        "id": "rdTdpjnr0iKq",
        "colab": {
          "base_uri": "https://localhost:8080/"
        },
        "outputId": "21e4d976-07aa-427c-9abb-ebd8cb473533"
      },
      "execution_count": 89,
      "outputs": [
        {
          "output_type": "stream",
          "name": "stdout",
          "text": [
            "(31, 5) (24, 5) (7, 5)\n"
          ]
        }
      ]
    },
    {
      "cell_type": "markdown",
      "source": [
        "Training the model"
      ],
      "metadata": {
        "id": "oJwxjvCS7tUs"
      }
    },
    {
      "cell_type": "code",
      "source": [
        "classifier=svm.SVC(kernel='linear')#here we are loading the support vector model\n",
        "#A linear kernel is a simple and effective way to separate data that is linearly separable, \n",
        "#meaning that a straight line can be drawn to separate the different classes. \n",
        "#In the case of diabetes detection using machine learning, it’s possible that the data is linearly separable\n",
        "# and a linear SVM model can provide good classification performance."
      ],
      "metadata": {
        "id": "dAiAqeNY7qN9"
      },
      "execution_count": 90,
      "outputs": []
    },
    {
      "cell_type": "code",
      "source": [
        "#training the support vector machine classifier\n",
        "classifier.fit(X_train,Y_train)"
      ],
      "metadata": {
        "id": "BgF2nGcF7-dA",
        "colab": {
          "base_uri": "https://localhost:8080/",
          "height": 75
        },
        "outputId": "315cfba2-aecb-42e4-92fd-75277139a9d0"
      },
      "execution_count": 91,
      "outputs": [
        {
          "output_type": "execute_result",
          "data": {
            "text/plain": [
              "SVC(kernel='linear')"
            ],
            "text/html": [
              "<style>#sk-container-id-2 {color: black;background-color: white;}#sk-container-id-2 pre{padding: 0;}#sk-container-id-2 div.sk-toggleable {background-color: white;}#sk-container-id-2 label.sk-toggleable__label {cursor: pointer;display: block;width: 100%;margin-bottom: 0;padding: 0.3em;box-sizing: border-box;text-align: center;}#sk-container-id-2 label.sk-toggleable__label-arrow:before {content: \"▸\";float: left;margin-right: 0.25em;color: #696969;}#sk-container-id-2 label.sk-toggleable__label-arrow:hover:before {color: black;}#sk-container-id-2 div.sk-estimator:hover label.sk-toggleable__label-arrow:before {color: black;}#sk-container-id-2 div.sk-toggleable__content {max-height: 0;max-width: 0;overflow: hidden;text-align: left;background-color: #f0f8ff;}#sk-container-id-2 div.sk-toggleable__content pre {margin: 0.2em;color: black;border-radius: 0.25em;background-color: #f0f8ff;}#sk-container-id-2 input.sk-toggleable__control:checked~div.sk-toggleable__content {max-height: 200px;max-width: 100%;overflow: auto;}#sk-container-id-2 input.sk-toggleable__control:checked~label.sk-toggleable__label-arrow:before {content: \"▾\";}#sk-container-id-2 div.sk-estimator input.sk-toggleable__control:checked~label.sk-toggleable__label {background-color: #d4ebff;}#sk-container-id-2 div.sk-label input.sk-toggleable__control:checked~label.sk-toggleable__label {background-color: #d4ebff;}#sk-container-id-2 input.sk-hidden--visually {border: 0;clip: rect(1px 1px 1px 1px);clip: rect(1px, 1px, 1px, 1px);height: 1px;margin: -1px;overflow: hidden;padding: 0;position: absolute;width: 1px;}#sk-container-id-2 div.sk-estimator {font-family: monospace;background-color: #f0f8ff;border: 1px dotted black;border-radius: 0.25em;box-sizing: border-box;margin-bottom: 0.5em;}#sk-container-id-2 div.sk-estimator:hover {background-color: #d4ebff;}#sk-container-id-2 div.sk-parallel-item::after {content: \"\";width: 100%;border-bottom: 1px solid gray;flex-grow: 1;}#sk-container-id-2 div.sk-label:hover label.sk-toggleable__label {background-color: #d4ebff;}#sk-container-id-2 div.sk-serial::before {content: \"\";position: absolute;border-left: 1px solid gray;box-sizing: border-box;top: 0;bottom: 0;left: 50%;z-index: 0;}#sk-container-id-2 div.sk-serial {display: flex;flex-direction: column;align-items: center;background-color: white;padding-right: 0.2em;padding-left: 0.2em;position: relative;}#sk-container-id-2 div.sk-item {position: relative;z-index: 1;}#sk-container-id-2 div.sk-parallel {display: flex;align-items: stretch;justify-content: center;background-color: white;position: relative;}#sk-container-id-2 div.sk-item::before, #sk-container-id-2 div.sk-parallel-item::before {content: \"\";position: absolute;border-left: 1px solid gray;box-sizing: border-box;top: 0;bottom: 0;left: 50%;z-index: -1;}#sk-container-id-2 div.sk-parallel-item {display: flex;flex-direction: column;z-index: 1;position: relative;background-color: white;}#sk-container-id-2 div.sk-parallel-item:first-child::after {align-self: flex-end;width: 50%;}#sk-container-id-2 div.sk-parallel-item:last-child::after {align-self: flex-start;width: 50%;}#sk-container-id-2 div.sk-parallel-item:only-child::after {width: 0;}#sk-container-id-2 div.sk-dashed-wrapped {border: 1px dashed gray;margin: 0 0.4em 0.5em 0.4em;box-sizing: border-box;padding-bottom: 0.4em;background-color: white;}#sk-container-id-2 div.sk-label label {font-family: monospace;font-weight: bold;display: inline-block;line-height: 1.2em;}#sk-container-id-2 div.sk-label-container {text-align: center;}#sk-container-id-2 div.sk-container {/* jupyter's `normalize.less` sets `[hidden] { display: none; }` but bootstrap.min.css set `[hidden] { display: none !important; }` so we also need the `!important` here to be able to override the default hidden behavior on the sphinx rendered scikit-learn.org. See: https://github.com/scikit-learn/scikit-learn/issues/21755 */display: inline-block !important;position: relative;}#sk-container-id-2 div.sk-text-repr-fallback {display: none;}</style><div id=\"sk-container-id-2\" class=\"sk-top-container\"><div class=\"sk-text-repr-fallback\"><pre>SVC(kernel=&#x27;linear&#x27;)</pre><b>In a Jupyter environment, please rerun this cell to show the HTML representation or trust the notebook. <br />On GitHub, the HTML representation is unable to render, please try loading this page with nbviewer.org.</b></div><div class=\"sk-container\" hidden><div class=\"sk-item\"><div class=\"sk-estimator sk-toggleable\"><input class=\"sk-toggleable__control sk-hidden--visually\" id=\"sk-estimator-id-2\" type=\"checkbox\" checked><label for=\"sk-estimator-id-2\" class=\"sk-toggleable__label sk-toggleable__label-arrow\">SVC</label><div class=\"sk-toggleable__content\"><pre>SVC(kernel=&#x27;linear&#x27;)</pre></div></div></div></div></div>"
            ]
          },
          "metadata": {},
          "execution_count": 91
        }
      ]
    },
    {
      "cell_type": "markdown",
      "source": [
        "Model Evaluation \n",
        "\n",
        "Accuracy Score"
      ],
      "metadata": {
        "id": "JA47htAOaQXI"
      }
    },
    {
      "cell_type": "code",
      "source": [
        "#accuracy score on the training data\n",
        "X_train_prediction=classifier.predict(X_train)\n",
        "training_data_accuracy= accuracy_score(X_train_prediction, Y_train)"
      ],
      "metadata": {
        "id": "wQg6PDtU8xJP"
      },
      "execution_count": 92,
      "outputs": []
    },
    {
      "cell_type": "code",
      "source": [
        "print(\"Accuracy score of the training data: \", training_data_accuracy)"
      ],
      "metadata": {
        "id": "JNluDvz_az-7",
        "colab": {
          "base_uri": "https://localhost:8080/"
        },
        "outputId": "e000d5ae-5673-4334-bd70-a010c2971751"
      },
      "execution_count": 93,
      "outputs": [
        {
          "output_type": "stream",
          "name": "stdout",
          "text": [
            "Accuracy score of the training data:  0.7916666666666666\n"
          ]
        }
      ]
    },
    {
      "cell_type": "code",
      "source": [
        "#accuracy score on the test data\n",
        "X_test_prediction=classifier.predict(X_test)\n",
        "test_data_accuracy= accuracy_score(X_test_prediction, Y_test)"
      ],
      "metadata": {
        "id": "h1KFfxm_bQaB"
      },
      "execution_count": 94,
      "outputs": []
    },
    {
      "cell_type": "code",
      "source": [
        "print(\"Accuracy sore on test data:\",test_data_accuracy)"
      ],
      "metadata": {
        "id": "mcD07sYJbjQZ",
        "colab": {
          "base_uri": "https://localhost:8080/"
        },
        "outputId": "f535dac6-1586-42ec-8904-2a331af6c017"
      },
      "execution_count": 58,
      "outputs": [
        {
          "output_type": "stream",
          "name": "stdout",
          "text": [
            "Accuracy sore on test data: 0.8181818181818182\n"
          ]
        }
      ]
    },
    {
      "cell_type": "markdown",
      "source": [
        "Making a predective system"
      ],
      "metadata": {
        "id": "kG28c6aUcIvF"
      }
    },
    {
      "cell_type": "code",
      "source": [
        "input_data = (60,0,0,0,0)\n",
        "\n",
        "#change the input data to a numpy array \n",
        "input_data_as_numpy_array=np.asarray(input_data)\n",
        "\n",
        "#reshape the array as we area predecting for one instance\n",
        "#if we do not reshape the array then the model will expect to have 764 data which is the total number of dataset\n",
        "#it will tell the model we are not looking for all the other 764 instances but only for one instances\n",
        "input_data_reshaped= input_data_as_numpy_array.reshape(1,-1)\n",
        "\n",
        "#we need to standarized the input data since we are not using the raw data but the standarized input data\n",
        "\n",
        "#standaraizes the input data\n",
        "#std_data=scaler.transform(input_data_reshaped)\n",
        "#print(std_data)\n",
        "\n",
        "prediction=classifier.predict(input_data_reshaped)\n",
        "print(prediction)\n",
        "if (prediction[0]==0):#The prediction gives the values the value in the form of a list and the result is displayed at an index of 0 so\n",
        "  print(\"The person is type 2 diabetic\")\n",
        "else:\n",
        "  print(\"The person is type 1 diabetic\")"
      ],
      "metadata": {
        "id": "NnQUJo2qcOQb",
        "colab": {
          "base_uri": "https://localhost:8080/"
        },
        "outputId": "c91bd0a6-7767-42f8-c957-a5a89aad732f"
      },
      "execution_count": 96,
      "outputs": [
        {
          "output_type": "stream",
          "name": "stdout",
          "text": [
            "[0]\n",
            "The person is type 2 diabetic\n"
          ]
        },
        {
          "output_type": "stream",
          "name": "stderr",
          "text": [
            "/usr/local/lib/python3.10/dist-packages/sklearn/base.py:439: UserWarning: X does not have valid feature names, but SVC was fitted with feature names\n",
            "  warnings.warn(\n"
          ]
        }
      ]
    },
    {
      "cell_type": "markdown",
      "source": [
        "Saving the trained model "
      ],
      "metadata": {
        "id": "ptJewFUSmHjM"
      }
    },
    {
      "cell_type": "code",
      "source": [
        "import pickle"
      ],
      "metadata": {
        "id": "tWNvSNvb-1-_"
      },
      "execution_count": 97,
      "outputs": []
    },
    {
      "cell_type": "code",
      "source": [
        "filename = 'Diabetes_trained_modelv2.sav'\n",
        "pickle.dump(classifier, open(filename, 'wb'))"
      ],
      "metadata": {
        "id": "ISTl7-4ykuev"
      },
      "execution_count": 98,
      "outputs": []
    },
    {
      "cell_type": "code",
      "source": [
        "# loading the saved model\n",
        "loaded_model = pickle.load(open('Diabetes_trained_modelv2.sav', 'rb'))"
      ],
      "metadata": {
        "id": "ZNUj1tF8k-fg"
      },
      "execution_count": 99,
      "outputs": []
    },
    {
      "cell_type": "code",
      "source": [
        "input_data=(1,0,0,0,0)\n",
        "#change the input data to a numpy array \n",
        "input_data_as_numpy_array=np.asarray(input_data)\n",
        "\n",
        "#reshape the array as we area predecting for one instance\n",
        "#if we do not reshape the array then the model will expect to have 764 data which is the total number of dataset\n",
        "#it will tell the model we are not looking for all the other 764 instances but only for one instances\n",
        "input_data_reshaped= input_data_as_numpy_array.reshape(1,-1)\n",
        "\n",
        "#we need to standarized the input data since we are not using the raw data but the standarized input data\n",
        "\n",
        "#standaraizes the input data\n",
        "#std_data=scaler.transform(input_data_reshaped)\n",
        "#print(std_data)\n",
        "\n",
        "prediction=loaded_model.predict(input_data_reshaped)\n",
        "print(prediction)\n",
        "if (prediction[0]==0):#The prediction gives the values the value in the form of a list and the result is displayed at an index of 0 so\n",
        "  print(\"The person is type 2 diabetic\")\n",
        "else:\n",
        "  print(\"The person is type 1 diabetic\")"
      ],
      "metadata": {
        "id": "XlzaltHNlm5B",
        "colab": {
          "base_uri": "https://localhost:8080/"
        },
        "outputId": "c2845840-a465-4e6d-eb3c-d6ccadc87e35"
      },
      "execution_count": 100,
      "outputs": [
        {
          "output_type": "stream",
          "name": "stdout",
          "text": [
            "[1]\n",
            "The person is type 1 diabetic\n"
          ]
        },
        {
          "output_type": "stream",
          "name": "stderr",
          "text": [
            "/usr/local/lib/python3.10/dist-packages/sklearn/base.py:439: UserWarning: X does not have valid feature names, but SVC was fitted with feature names\n",
            "  warnings.warn(\n"
          ]
        }
      ]
    }
  ]
}