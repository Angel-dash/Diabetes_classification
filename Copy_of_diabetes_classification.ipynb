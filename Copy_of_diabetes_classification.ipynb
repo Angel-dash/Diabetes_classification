{
  "nbformat": 4,
  "nbformat_minor": 0,
  "metadata": {
    "colab": {
      "provenance": [],
      "authorship_tag": "ABX9TyPr8/+kT25SbgGI5iTvC6yK",
      "include_colab_link": true
    },
    "kernelspec": {
      "name": "python3",
      "display_name": "Python 3"
    },
    "language_info": {
      "name": "python"
    }
  },
  "cells": [
    {
      "cell_type": "markdown",
      "metadata": {
        "id": "view-in-github",
        "colab_type": "text"
      },
      "source": [
        "<a href=\"https://colab.research.google.com/github/Angel-dash/CG_1/blob/main/Copy_of_diabetes_classification.ipynb\" target=\"_parent\"><img src=\"https://colab.research.google.com/assets/colab-badge.svg\" alt=\"Open In Colab\"/></a>"
      ]
    },
    {
      "cell_type": "markdown",
      "source": [
        "Importing the Dependencies"
      ],
      "metadata": {
        "id": "arQ3OgXBNTEm"
      }
    },
    {
      "cell_type": "code",
      "source": [
        "import numpy as np\n",
        "import pandas as pd\n",
        "from sklearn.preprocessing import StandardScaler\n",
        "from sklearn.model_selection import train_test_split\n",
        "from sklearn import svm\n",
        "from sklearn.metrics import accuracy_score"
      ],
      "metadata": {
        "id": "vQF9XxiYNxyH"
      },
      "execution_count": null,
      "outputs": []
    },
    {
      "cell_type": "markdown",
      "source": [
        "Data collection and analysis\n",
        "PIMA diabetes dataset"
      ],
      "metadata": {
        "id": "rkcVCecyPfiH"
      }
    },
    {
      "cell_type": "code",
      "source": [
        "#loading the diabetes dataset to pandas Datafream\n",
        "diabetes_dataset = pd.read_csv('/content/diabetes_classification_data3 - Copy.csv')"
      ],
      "metadata": {
        "id": "ivNdZXZuPlea"
      },
      "execution_count": null,
      "outputs": []
    },
    {
      "cell_type": "code",
      "source": [
        "#printing the first five rows of the dataset\n",
        "diabetes_dataset.head()"
      ],
      "metadata": {
        "colab": {
          "base_uri": "https://localhost:8080/",
          "height": 206
        },
        "id": "eeVTWtdWQTwl",
        "outputId": "c43abe20-bfd7-4f5a-997a-0a4683b826f0"
      },
      "execution_count": null,
      "outputs": [
        {
          "output_type": "execute_result",
          "data": {
            "text/plain": [
              "   Age  Insulin_Up  Insulin_down  Insulin_steady  A1C Levels  On Medication  \\\n",
              "0   70           1             0               0         8.5              1   \n",
              "1   70           1             0               0         8.5              1   \n",
              "2   60           1             0               0         8.5              1   \n",
              "3   60           1             0               0         8.5              1   \n",
              "4   60           0             0               1         8.5              1   \n",
              "\n",
              "   Output  \n",
              "0       0  \n",
              "1       1  \n",
              "2       0  \n",
              "3       0  \n",
              "4       0  "
            ],
            "text/html": [
              "\n",
              "  <div id=\"df-22c2733c-663b-4ed8-8d9a-050112094a1f\">\n",
              "    <div class=\"colab-df-container\">\n",
              "      <div>\n",
              "<style scoped>\n",
              "    .dataframe tbody tr th:only-of-type {\n",
              "        vertical-align: middle;\n",
              "    }\n",
              "\n",
              "    .dataframe tbody tr th {\n",
              "        vertical-align: top;\n",
              "    }\n",
              "\n",
              "    .dataframe thead th {\n",
              "        text-align: right;\n",
              "    }\n",
              "</style>\n",
              "<table border=\"1\" class=\"dataframe\">\n",
              "  <thead>\n",
              "    <tr style=\"text-align: right;\">\n",
              "      <th></th>\n",
              "      <th>Age</th>\n",
              "      <th>Insulin_Up</th>\n",
              "      <th>Insulin_down</th>\n",
              "      <th>Insulin_steady</th>\n",
              "      <th>A1C Levels</th>\n",
              "      <th>On Medication</th>\n",
              "      <th>Output</th>\n",
              "    </tr>\n",
              "  </thead>\n",
              "  <tbody>\n",
              "    <tr>\n",
              "      <th>0</th>\n",
              "      <td>70</td>\n",
              "      <td>1</td>\n",
              "      <td>0</td>\n",
              "      <td>0</td>\n",
              "      <td>8.5</td>\n",
              "      <td>1</td>\n",
              "      <td>0</td>\n",
              "    </tr>\n",
              "    <tr>\n",
              "      <th>1</th>\n",
              "      <td>70</td>\n",
              "      <td>1</td>\n",
              "      <td>0</td>\n",
              "      <td>0</td>\n",
              "      <td>8.5</td>\n",
              "      <td>1</td>\n",
              "      <td>1</td>\n",
              "    </tr>\n",
              "    <tr>\n",
              "      <th>2</th>\n",
              "      <td>60</td>\n",
              "      <td>1</td>\n",
              "      <td>0</td>\n",
              "      <td>0</td>\n",
              "      <td>8.5</td>\n",
              "      <td>1</td>\n",
              "      <td>0</td>\n",
              "    </tr>\n",
              "    <tr>\n",
              "      <th>3</th>\n",
              "      <td>60</td>\n",
              "      <td>1</td>\n",
              "      <td>0</td>\n",
              "      <td>0</td>\n",
              "      <td>8.5</td>\n",
              "      <td>1</td>\n",
              "      <td>0</td>\n",
              "    </tr>\n",
              "    <tr>\n",
              "      <th>4</th>\n",
              "      <td>60</td>\n",
              "      <td>0</td>\n",
              "      <td>0</td>\n",
              "      <td>1</td>\n",
              "      <td>8.5</td>\n",
              "      <td>1</td>\n",
              "      <td>0</td>\n",
              "    </tr>\n",
              "  </tbody>\n",
              "</table>\n",
              "</div>\n",
              "      <button class=\"colab-df-convert\" onclick=\"convertToInteractive('df-22c2733c-663b-4ed8-8d9a-050112094a1f')\"\n",
              "              title=\"Convert this dataframe to an interactive table.\"\n",
              "              style=\"display:none;\">\n",
              "        \n",
              "  <svg xmlns=\"http://www.w3.org/2000/svg\" height=\"24px\"viewBox=\"0 0 24 24\"\n",
              "       width=\"24px\">\n",
              "    <path d=\"M0 0h24v24H0V0z\" fill=\"none\"/>\n",
              "    <path d=\"M18.56 5.44l.94 2.06.94-2.06 2.06-.94-2.06-.94-.94-2.06-.94 2.06-2.06.94zm-11 1L8.5 8.5l.94-2.06 2.06-.94-2.06-.94L8.5 2.5l-.94 2.06-2.06.94zm10 10l.94 2.06.94-2.06 2.06-.94-2.06-.94-.94-2.06-.94 2.06-2.06.94z\"/><path d=\"M17.41 7.96l-1.37-1.37c-.4-.4-.92-.59-1.43-.59-.52 0-1.04.2-1.43.59L10.3 9.45l-7.72 7.72c-.78.78-.78 2.05 0 2.83L4 21.41c.39.39.9.59 1.41.59.51 0 1.02-.2 1.41-.59l7.78-7.78 2.81-2.81c.8-.78.8-2.07 0-2.86zM5.41 20L4 18.59l7.72-7.72 1.47 1.35L5.41 20z\"/>\n",
              "  </svg>\n",
              "      </button>\n",
              "      \n",
              "  <style>\n",
              "    .colab-df-container {\n",
              "      display:flex;\n",
              "      flex-wrap:wrap;\n",
              "      gap: 12px;\n",
              "    }\n",
              "\n",
              "    .colab-df-convert {\n",
              "      background-color: #E8F0FE;\n",
              "      border: none;\n",
              "      border-radius: 50%;\n",
              "      cursor: pointer;\n",
              "      display: none;\n",
              "      fill: #1967D2;\n",
              "      height: 32px;\n",
              "      padding: 0 0 0 0;\n",
              "      width: 32px;\n",
              "    }\n",
              "\n",
              "    .colab-df-convert:hover {\n",
              "      background-color: #E2EBFA;\n",
              "      box-shadow: 0px 1px 2px rgba(60, 64, 67, 0.3), 0px 1px 3px 1px rgba(60, 64, 67, 0.15);\n",
              "      fill: #174EA6;\n",
              "    }\n",
              "\n",
              "    [theme=dark] .colab-df-convert {\n",
              "      background-color: #3B4455;\n",
              "      fill: #D2E3FC;\n",
              "    }\n",
              "\n",
              "    [theme=dark] .colab-df-convert:hover {\n",
              "      background-color: #434B5C;\n",
              "      box-shadow: 0px 1px 3px 1px rgba(0, 0, 0, 0.15);\n",
              "      filter: drop-shadow(0px 1px 2px rgba(0, 0, 0, 0.3));\n",
              "      fill: #FFFFFF;\n",
              "    }\n",
              "  </style>\n",
              "\n",
              "      <script>\n",
              "        const buttonEl =\n",
              "          document.querySelector('#df-22c2733c-663b-4ed8-8d9a-050112094a1f button.colab-df-convert');\n",
              "        buttonEl.style.display =\n",
              "          google.colab.kernel.accessAllowed ? 'block' : 'none';\n",
              "\n",
              "        async function convertToInteractive(key) {\n",
              "          const element = document.querySelector('#df-22c2733c-663b-4ed8-8d9a-050112094a1f');\n",
              "          const dataTable =\n",
              "            await google.colab.kernel.invokeFunction('convertToInteractive',\n",
              "                                                     [key], {});\n",
              "          if (!dataTable) return;\n",
              "\n",
              "          const docLinkHtml = 'Like what you see? Visit the ' +\n",
              "            '<a target=\"_blank\" href=https://colab.research.google.com/notebooks/data_table.ipynb>data table notebook</a>'\n",
              "            + ' to learn more about interactive tables.';\n",
              "          element.innerHTML = '';\n",
              "          dataTable['output_type'] = 'display_data';\n",
              "          await google.colab.output.renderOutput(dataTable, element);\n",
              "          const docLink = document.createElement('div');\n",
              "          docLink.innerHTML = docLinkHtml;\n",
              "          element.appendChild(docLink);\n",
              "        }\n",
              "      </script>\n",
              "    </div>\n",
              "  </div>\n",
              "  "
            ]
          },
          "metadata": {},
          "execution_count": 187
        }
      ]
    },
    {
      "cell_type": "code",
      "source": [
        "#number of rows and columns in this dataset\n",
        "diabetes_dataset.shape"
      ],
      "metadata": {
        "colab": {
          "base_uri": "https://localhost:8080/"
        },
        "id": "dhpaySLkRjqh",
        "outputId": "6d821474-bb71-48a9-b9e9-e9be92090f1a"
      },
      "execution_count": null,
      "outputs": [
        {
          "output_type": "execute_result",
          "data": {
            "text/plain": [
              "(39, 7)"
            ]
          },
          "metadata": {},
          "execution_count": 188
        }
      ]
    },
    {
      "cell_type": "code",
      "source": [
        "#getting the statistical measrures of the data\n",
        "diabetes_dataset.describe()"
      ],
      "metadata": {
        "colab": {
          "base_uri": "https://localhost:8080/",
          "height": 300
        },
        "id": "SNOuFPwERyOf",
        "outputId": "c6801d19-b3ea-4c6e-8ebb-589cc48c3beb"
      },
      "execution_count": null,
      "outputs": [
        {
          "output_type": "execute_result",
          "data": {
            "text/plain": [
              "             Age  Insulin_Up  Insulin_down  Insulin_steady  A1C Levels  \\\n",
              "count  39.000000   39.000000     39.000000       39.000000   39.000000   \n",
              "mean   47.948718    0.435897      0.102564        0.461538    7.884615   \n",
              "std    19.891745    0.502356      0.307355        0.505035    0.692645   \n",
              "min    10.000000    0.000000      0.000000        0.000000    6.500000   \n",
              "25%    40.000000    0.000000      0.000000        0.000000    8.000000   \n",
              "50%    50.000000    0.000000      0.000000        0.000000    8.000000   \n",
              "75%    60.000000    1.000000      0.000000        1.000000    8.500000   \n",
              "max    90.000000    1.000000      1.000000        1.000000    8.500000   \n",
              "\n",
              "       On Medication     Output  \n",
              "count      39.000000  39.000000  \n",
              "mean        0.923077   0.256410  \n",
              "std         0.269953   0.442359  \n",
              "min         0.000000   0.000000  \n",
              "25%         1.000000   0.000000  \n",
              "50%         1.000000   0.000000  \n",
              "75%         1.000000   0.500000  \n",
              "max         1.000000   1.000000  "
            ],
            "text/html": [
              "\n",
              "  <div id=\"df-e5b1d814-da66-4d24-a854-ac339abce643\">\n",
              "    <div class=\"colab-df-container\">\n",
              "      <div>\n",
              "<style scoped>\n",
              "    .dataframe tbody tr th:only-of-type {\n",
              "        vertical-align: middle;\n",
              "    }\n",
              "\n",
              "    .dataframe tbody tr th {\n",
              "        vertical-align: top;\n",
              "    }\n",
              "\n",
              "    .dataframe thead th {\n",
              "        text-align: right;\n",
              "    }\n",
              "</style>\n",
              "<table border=\"1\" class=\"dataframe\">\n",
              "  <thead>\n",
              "    <tr style=\"text-align: right;\">\n",
              "      <th></th>\n",
              "      <th>Age</th>\n",
              "      <th>Insulin_Up</th>\n",
              "      <th>Insulin_down</th>\n",
              "      <th>Insulin_steady</th>\n",
              "      <th>A1C Levels</th>\n",
              "      <th>On Medication</th>\n",
              "      <th>Output</th>\n",
              "    </tr>\n",
              "  </thead>\n",
              "  <tbody>\n",
              "    <tr>\n",
              "      <th>count</th>\n",
              "      <td>39.000000</td>\n",
              "      <td>39.000000</td>\n",
              "      <td>39.000000</td>\n",
              "      <td>39.000000</td>\n",
              "      <td>39.000000</td>\n",
              "      <td>39.000000</td>\n",
              "      <td>39.000000</td>\n",
              "    </tr>\n",
              "    <tr>\n",
              "      <th>mean</th>\n",
              "      <td>47.948718</td>\n",
              "      <td>0.435897</td>\n",
              "      <td>0.102564</td>\n",
              "      <td>0.461538</td>\n",
              "      <td>7.884615</td>\n",
              "      <td>0.923077</td>\n",
              "      <td>0.256410</td>\n",
              "    </tr>\n",
              "    <tr>\n",
              "      <th>std</th>\n",
              "      <td>19.891745</td>\n",
              "      <td>0.502356</td>\n",
              "      <td>0.307355</td>\n",
              "      <td>0.505035</td>\n",
              "      <td>0.692645</td>\n",
              "      <td>0.269953</td>\n",
              "      <td>0.442359</td>\n",
              "    </tr>\n",
              "    <tr>\n",
              "      <th>min</th>\n",
              "      <td>10.000000</td>\n",
              "      <td>0.000000</td>\n",
              "      <td>0.000000</td>\n",
              "      <td>0.000000</td>\n",
              "      <td>6.500000</td>\n",
              "      <td>0.000000</td>\n",
              "      <td>0.000000</td>\n",
              "    </tr>\n",
              "    <tr>\n",
              "      <th>25%</th>\n",
              "      <td>40.000000</td>\n",
              "      <td>0.000000</td>\n",
              "      <td>0.000000</td>\n",
              "      <td>0.000000</td>\n",
              "      <td>8.000000</td>\n",
              "      <td>1.000000</td>\n",
              "      <td>0.000000</td>\n",
              "    </tr>\n",
              "    <tr>\n",
              "      <th>50%</th>\n",
              "      <td>50.000000</td>\n",
              "      <td>0.000000</td>\n",
              "      <td>0.000000</td>\n",
              "      <td>0.000000</td>\n",
              "      <td>8.000000</td>\n",
              "      <td>1.000000</td>\n",
              "      <td>0.000000</td>\n",
              "    </tr>\n",
              "    <tr>\n",
              "      <th>75%</th>\n",
              "      <td>60.000000</td>\n",
              "      <td>1.000000</td>\n",
              "      <td>0.000000</td>\n",
              "      <td>1.000000</td>\n",
              "      <td>8.500000</td>\n",
              "      <td>1.000000</td>\n",
              "      <td>0.500000</td>\n",
              "    </tr>\n",
              "    <tr>\n",
              "      <th>max</th>\n",
              "      <td>90.000000</td>\n",
              "      <td>1.000000</td>\n",
              "      <td>1.000000</td>\n",
              "      <td>1.000000</td>\n",
              "      <td>8.500000</td>\n",
              "      <td>1.000000</td>\n",
              "      <td>1.000000</td>\n",
              "    </tr>\n",
              "  </tbody>\n",
              "</table>\n",
              "</div>\n",
              "      <button class=\"colab-df-convert\" onclick=\"convertToInteractive('df-e5b1d814-da66-4d24-a854-ac339abce643')\"\n",
              "              title=\"Convert this dataframe to an interactive table.\"\n",
              "              style=\"display:none;\">\n",
              "        \n",
              "  <svg xmlns=\"http://www.w3.org/2000/svg\" height=\"24px\"viewBox=\"0 0 24 24\"\n",
              "       width=\"24px\">\n",
              "    <path d=\"M0 0h24v24H0V0z\" fill=\"none\"/>\n",
              "    <path d=\"M18.56 5.44l.94 2.06.94-2.06 2.06-.94-2.06-.94-.94-2.06-.94 2.06-2.06.94zm-11 1L8.5 8.5l.94-2.06 2.06-.94-2.06-.94L8.5 2.5l-.94 2.06-2.06.94zm10 10l.94 2.06.94-2.06 2.06-.94-2.06-.94-.94-2.06-.94 2.06-2.06.94z\"/><path d=\"M17.41 7.96l-1.37-1.37c-.4-.4-.92-.59-1.43-.59-.52 0-1.04.2-1.43.59L10.3 9.45l-7.72 7.72c-.78.78-.78 2.05 0 2.83L4 21.41c.39.39.9.59 1.41.59.51 0 1.02-.2 1.41-.59l7.78-7.78 2.81-2.81c.8-.78.8-2.07 0-2.86zM5.41 20L4 18.59l7.72-7.72 1.47 1.35L5.41 20z\"/>\n",
              "  </svg>\n",
              "      </button>\n",
              "      \n",
              "  <style>\n",
              "    .colab-df-container {\n",
              "      display:flex;\n",
              "      flex-wrap:wrap;\n",
              "      gap: 12px;\n",
              "    }\n",
              "\n",
              "    .colab-df-convert {\n",
              "      background-color: #E8F0FE;\n",
              "      border: none;\n",
              "      border-radius: 50%;\n",
              "      cursor: pointer;\n",
              "      display: none;\n",
              "      fill: #1967D2;\n",
              "      height: 32px;\n",
              "      padding: 0 0 0 0;\n",
              "      width: 32px;\n",
              "    }\n",
              "\n",
              "    .colab-df-convert:hover {\n",
              "      background-color: #E2EBFA;\n",
              "      box-shadow: 0px 1px 2px rgba(60, 64, 67, 0.3), 0px 1px 3px 1px rgba(60, 64, 67, 0.15);\n",
              "      fill: #174EA6;\n",
              "    }\n",
              "\n",
              "    [theme=dark] .colab-df-convert {\n",
              "      background-color: #3B4455;\n",
              "      fill: #D2E3FC;\n",
              "    }\n",
              "\n",
              "    [theme=dark] .colab-df-convert:hover {\n",
              "      background-color: #434B5C;\n",
              "      box-shadow: 0px 1px 3px 1px rgba(0, 0, 0, 0.15);\n",
              "      filter: drop-shadow(0px 1px 2px rgba(0, 0, 0, 0.3));\n",
              "      fill: #FFFFFF;\n",
              "    }\n",
              "  </style>\n",
              "\n",
              "      <script>\n",
              "        const buttonEl =\n",
              "          document.querySelector('#df-e5b1d814-da66-4d24-a854-ac339abce643 button.colab-df-convert');\n",
              "        buttonEl.style.display =\n",
              "          google.colab.kernel.accessAllowed ? 'block' : 'none';\n",
              "\n",
              "        async function convertToInteractive(key) {\n",
              "          const element = document.querySelector('#df-e5b1d814-da66-4d24-a854-ac339abce643');\n",
              "          const dataTable =\n",
              "            await google.colab.kernel.invokeFunction('convertToInteractive',\n",
              "                                                     [key], {});\n",
              "          if (!dataTable) return;\n",
              "\n",
              "          const docLinkHtml = 'Like what you see? Visit the ' +\n",
              "            '<a target=\"_blank\" href=https://colab.research.google.com/notebooks/data_table.ipynb>data table notebook</a>'\n",
              "            + ' to learn more about interactive tables.';\n",
              "          element.innerHTML = '';\n",
              "          dataTable['output_type'] = 'display_data';\n",
              "          await google.colab.output.renderOutput(dataTable, element);\n",
              "          const docLink = document.createElement('div');\n",
              "          docLink.innerHTML = docLinkHtml;\n",
              "          element.appendChild(docLink);\n",
              "        }\n",
              "      </script>\n",
              "    </div>\n",
              "  </div>\n",
              "  "
            ]
          },
          "metadata": {},
          "execution_count": 189
        }
      ]
    },
    {
      "cell_type": "code",
      "source": [
        "diabetes_dataset['Output'].value_counts()"
      ],
      "metadata": {
        "colab": {
          "base_uri": "https://localhost:8080/"
        },
        "id": "fOI348yUSF8D",
        "outputId": "81516786-c956-479e-a86e-0d20b502f805"
      },
      "execution_count": null,
      "outputs": [
        {
          "output_type": "execute_result",
          "data": {
            "text/plain": [
              "0    29\n",
              "1    10\n",
              "Name: Output, dtype: int64"
            ]
          },
          "metadata": {},
          "execution_count": 190
        }
      ]
    },
    {
      "cell_type": "markdown",
      "source": [
        "0--> Type 2\n",
        "1--> Type 1"
      ],
      "metadata": {
        "id": "NDFD04_nqOL_"
      }
    },
    {
      "cell_type": "code",
      "source": [
        "diabetes_dataset.groupby('Output').mean()"
      ],
      "metadata": {
        "id": "pys2NwV0TUI5",
        "colab": {
          "base_uri": "https://localhost:8080/",
          "height": 143
        },
        "outputId": "de7bad62-34a2-4cc6-b640-c8217c002b2a"
      },
      "execution_count": null,
      "outputs": [
        {
          "output_type": "execute_result",
          "data": {
            "text/plain": [
              "              Age  Insulin_Up  Insulin_down  Insulin_steady  A1C Levels  \\\n",
              "Output                                                                    \n",
              "0       53.448276    0.413793      0.103448        0.482759    8.086207   \n",
              "1       32.000000    0.500000      0.100000        0.400000    7.300000   \n",
              "\n",
              "        On Medication  \n",
              "Output                 \n",
              "0            0.896552  \n",
              "1            1.000000  "
            ],
            "text/html": [
              "\n",
              "  <div id=\"df-79cdef39-7081-43ba-97f2-b52b457ba870\">\n",
              "    <div class=\"colab-df-container\">\n",
              "      <div>\n",
              "<style scoped>\n",
              "    .dataframe tbody tr th:only-of-type {\n",
              "        vertical-align: middle;\n",
              "    }\n",
              "\n",
              "    .dataframe tbody tr th {\n",
              "        vertical-align: top;\n",
              "    }\n",
              "\n",
              "    .dataframe thead th {\n",
              "        text-align: right;\n",
              "    }\n",
              "</style>\n",
              "<table border=\"1\" class=\"dataframe\">\n",
              "  <thead>\n",
              "    <tr style=\"text-align: right;\">\n",
              "      <th></th>\n",
              "      <th>Age</th>\n",
              "      <th>Insulin_Up</th>\n",
              "      <th>Insulin_down</th>\n",
              "      <th>Insulin_steady</th>\n",
              "      <th>A1C Levels</th>\n",
              "      <th>On Medication</th>\n",
              "    </tr>\n",
              "    <tr>\n",
              "      <th>Output</th>\n",
              "      <th></th>\n",
              "      <th></th>\n",
              "      <th></th>\n",
              "      <th></th>\n",
              "      <th></th>\n",
              "      <th></th>\n",
              "    </tr>\n",
              "  </thead>\n",
              "  <tbody>\n",
              "    <tr>\n",
              "      <th>0</th>\n",
              "      <td>53.448276</td>\n",
              "      <td>0.413793</td>\n",
              "      <td>0.103448</td>\n",
              "      <td>0.482759</td>\n",
              "      <td>8.086207</td>\n",
              "      <td>0.896552</td>\n",
              "    </tr>\n",
              "    <tr>\n",
              "      <th>1</th>\n",
              "      <td>32.000000</td>\n",
              "      <td>0.500000</td>\n",
              "      <td>0.100000</td>\n",
              "      <td>0.400000</td>\n",
              "      <td>7.300000</td>\n",
              "      <td>1.000000</td>\n",
              "    </tr>\n",
              "  </tbody>\n",
              "</table>\n",
              "</div>\n",
              "      <button class=\"colab-df-convert\" onclick=\"convertToInteractive('df-79cdef39-7081-43ba-97f2-b52b457ba870')\"\n",
              "              title=\"Convert this dataframe to an interactive table.\"\n",
              "              style=\"display:none;\">\n",
              "        \n",
              "  <svg xmlns=\"http://www.w3.org/2000/svg\" height=\"24px\"viewBox=\"0 0 24 24\"\n",
              "       width=\"24px\">\n",
              "    <path d=\"M0 0h24v24H0V0z\" fill=\"none\"/>\n",
              "    <path d=\"M18.56 5.44l.94 2.06.94-2.06 2.06-.94-2.06-.94-.94-2.06-.94 2.06-2.06.94zm-11 1L8.5 8.5l.94-2.06 2.06-.94-2.06-.94L8.5 2.5l-.94 2.06-2.06.94zm10 10l.94 2.06.94-2.06 2.06-.94-2.06-.94-.94-2.06-.94 2.06-2.06.94z\"/><path d=\"M17.41 7.96l-1.37-1.37c-.4-.4-.92-.59-1.43-.59-.52 0-1.04.2-1.43.59L10.3 9.45l-7.72 7.72c-.78.78-.78 2.05 0 2.83L4 21.41c.39.39.9.59 1.41.59.51 0 1.02-.2 1.41-.59l7.78-7.78 2.81-2.81c.8-.78.8-2.07 0-2.86zM5.41 20L4 18.59l7.72-7.72 1.47 1.35L5.41 20z\"/>\n",
              "  </svg>\n",
              "      </button>\n",
              "      \n",
              "  <style>\n",
              "    .colab-df-container {\n",
              "      display:flex;\n",
              "      flex-wrap:wrap;\n",
              "      gap: 12px;\n",
              "    }\n",
              "\n",
              "    .colab-df-convert {\n",
              "      background-color: #E8F0FE;\n",
              "      border: none;\n",
              "      border-radius: 50%;\n",
              "      cursor: pointer;\n",
              "      display: none;\n",
              "      fill: #1967D2;\n",
              "      height: 32px;\n",
              "      padding: 0 0 0 0;\n",
              "      width: 32px;\n",
              "    }\n",
              "\n",
              "    .colab-df-convert:hover {\n",
              "      background-color: #E2EBFA;\n",
              "      box-shadow: 0px 1px 2px rgba(60, 64, 67, 0.3), 0px 1px 3px 1px rgba(60, 64, 67, 0.15);\n",
              "      fill: #174EA6;\n",
              "    }\n",
              "\n",
              "    [theme=dark] .colab-df-convert {\n",
              "      background-color: #3B4455;\n",
              "      fill: #D2E3FC;\n",
              "    }\n",
              "\n",
              "    [theme=dark] .colab-df-convert:hover {\n",
              "      background-color: #434B5C;\n",
              "      box-shadow: 0px 1px 3px 1px rgba(0, 0, 0, 0.15);\n",
              "      filter: drop-shadow(0px 1px 2px rgba(0, 0, 0, 0.3));\n",
              "      fill: #FFFFFF;\n",
              "    }\n",
              "  </style>\n",
              "\n",
              "      <script>\n",
              "        const buttonEl =\n",
              "          document.querySelector('#df-79cdef39-7081-43ba-97f2-b52b457ba870 button.colab-df-convert');\n",
              "        buttonEl.style.display =\n",
              "          google.colab.kernel.accessAllowed ? 'block' : 'none';\n",
              "\n",
              "        async function convertToInteractive(key) {\n",
              "          const element = document.querySelector('#df-79cdef39-7081-43ba-97f2-b52b457ba870');\n",
              "          const dataTable =\n",
              "            await google.colab.kernel.invokeFunction('convertToInteractive',\n",
              "                                                     [key], {});\n",
              "          if (!dataTable) return;\n",
              "\n",
              "          const docLinkHtml = 'Like what you see? Visit the ' +\n",
              "            '<a target=\"_blank\" href=https://colab.research.google.com/notebooks/data_table.ipynb>data table notebook</a>'\n",
              "            + ' to learn more about interactive tables.';\n",
              "          element.innerHTML = '';\n",
              "          dataTable['output_type'] = 'display_data';\n",
              "          await google.colab.output.renderOutput(dataTable, element);\n",
              "          const docLink = document.createElement('div');\n",
              "          docLink.innerHTML = docLinkHtml;\n",
              "          element.appendChild(docLink);\n",
              "        }\n",
              "      </script>\n",
              "    </div>\n",
              "  </div>\n",
              "  "
            ]
          },
          "metadata": {},
          "execution_count": 191
        }
      ]
    },
    {
      "cell_type": "code",
      "source": [
        "#seperating the data and labels\n",
        "X=diabetes_dataset.drop(columns=['Output','A1C Levels'],axis=1)\n",
        "\n",
        "Y=diabetes_dataset['Output']"
      ],
      "metadata": {
        "id": "IjpWzuMDsbhT"
      },
      "execution_count": null,
      "outputs": []
    },
    {
      "cell_type": "code",
      "source": [
        "print(X)"
      ],
      "metadata": {
        "colab": {
          "base_uri": "https://localhost:8080/"
        },
        "id": "jmGtQshctTlp",
        "outputId": "e22d8bd1-7e15-4d2b-9654-6b3080af9b65"
      },
      "execution_count": null,
      "outputs": [
        {
          "output_type": "stream",
          "name": "stdout",
          "text": [
            "    Age  Insulin_Up  Insulin_down  Insulin_steady  On Medication\n",
            "0    70           1             0               0              1\n",
            "1    70           1             0               0              1\n",
            "2    60           1             0               0              1\n",
            "3    60           1             0               0              1\n",
            "4    60           0             0               1              1\n",
            "5    50           0             0               1              1\n",
            "6    30           1             0               0              1\n",
            "7    20           1             0               0              1\n",
            "8    40           1             0               0              0\n",
            "9    10           1             0               0              1\n",
            "10   20           1             0               0              1\n",
            "11   40           0             1               0              1\n",
            "12   70           0             1               0              0\n",
            "13   50           1             0               0              1\n",
            "14   40           0             1               0              1\n",
            "15   50           0             1               0              1\n",
            "16   40           0             0               1              1\n",
            "17   80           0             0               1              1\n",
            "18   70           1             0               0              1\n",
            "19   80           1             0               0              1\n",
            "20   70           1             0               0              1\n",
            "21   40           1             0               0              1\n",
            "22   50           1             0               0              1\n",
            "23   90           0             0               1              1\n",
            "24   40           0             0               1              1\n",
            "25   60           0             0               1              1\n",
            "26   10           0             0               1              1\n",
            "27   20           1             0               0              1\n",
            "28   20           1             0               0              1\n",
            "29   40           0             0               1              1\n",
            "30   40           0             0               1              1\n",
            "31   60           0             0               1              1\n",
            "32   60           0             0               1              1\n",
            "33   20           0             0               1              1\n",
            "34   50           0             0               1              1\n",
            "35   50           0             0               1              0\n",
            "36   60           0             0               1              1\n",
            "37   40           0             0               1              1\n",
            "38   40           0             0               1              1\n"
          ]
        }
      ]
    },
    {
      "cell_type": "code",
      "source": [
        "print(Y)"
      ],
      "metadata": {
        "colab": {
          "base_uri": "https://localhost:8080/"
        },
        "id": "FZGMZdActWjO",
        "outputId": "844e1151-8682-4db7-cca2-cd0f5660622c"
      },
      "execution_count": null,
      "outputs": [
        {
          "output_type": "stream",
          "name": "stdout",
          "text": [
            "0     0\n",
            "1     1\n",
            "2     0\n",
            "3     0\n",
            "4     0\n",
            "5     0\n",
            "6     0\n",
            "7     0\n",
            "8     0\n",
            "9     1\n",
            "10    1\n",
            "11    0\n",
            "12    0\n",
            "13    0\n",
            "14    1\n",
            "15    0\n",
            "16    1\n",
            "17    0\n",
            "18    0\n",
            "19    0\n",
            "20    0\n",
            "21    0\n",
            "22    1\n",
            "23    0\n",
            "24    1\n",
            "25    0\n",
            "26    1\n",
            "27    0\n",
            "28    1\n",
            "29    0\n",
            "30    0\n",
            "31    0\n",
            "32    0\n",
            "33    1\n",
            "34    0\n",
            "35    0\n",
            "36    0\n",
            "37    0\n",
            "38    0\n",
            "Name: Output, dtype: int64\n"
          ]
        }
      ]
    },
    {
      "cell_type": "code",
      "source": [
        "#Data Standarization in particular range so machine learning model can make predection \n",
        "#scaler = StandardScaler()"
      ],
      "metadata": {
        "id": "e8-dsB5btl88"
      },
      "execution_count": null,
      "outputs": []
    },
    {
      "cell_type": "code",
      "source": [
        "#scaler.fit(X)"
      ],
      "metadata": {
        "id": "G0sWcf3WuBrD"
      },
      "execution_count": null,
      "outputs": []
    },
    {
      "cell_type": "code",
      "source": [
        "#standarized_data=scaler.transform(X)#this will transfrom the data in the same range "
      ],
      "metadata": {
        "id": "CHmcL3EXupj6"
      },
      "execution_count": null,
      "outputs": []
    },
    {
      "cell_type": "code",
      "source": [
        "#print(standarized_data)"
      ],
      "metadata": {
        "id": "E3ntrlvAu4Ez"
      },
      "execution_count": null,
      "outputs": []
    },
    {
      "cell_type": "code",
      "source": [
        "#X=standarized_data\n",
        "#Y=diabetes_dataset['Output']"
      ],
      "metadata": {
        "id": "g2tN1cYKvHKT"
      },
      "execution_count": null,
      "outputs": []
    },
    {
      "cell_type": "code",
      "source": [
        "print(X) #X will give standarized data\n",
        "print(Y)# Y wil give label of the outcome i.e diabetic or non-diabetic"
      ],
      "metadata": {
        "colab": {
          "base_uri": "https://localhost:8080/"
        },
        "id": "zApYlEV6xFQA",
        "outputId": "92763b45-d45a-441c-c7f0-77557ec0ae0e"
      },
      "execution_count": null,
      "outputs": [
        {
          "output_type": "stream",
          "name": "stdout",
          "text": [
            "    Age  Insulin_Up  Insulin_down  Insulin_steady  On Medication\n",
            "0    70           1             0               0              1\n",
            "1    70           1             0               0              1\n",
            "2    60           1             0               0              1\n",
            "3    60           1             0               0              1\n",
            "4    60           0             0               1              1\n",
            "5    50           0             0               1              1\n",
            "6    30           1             0               0              1\n",
            "7    20           1             0               0              1\n",
            "8    40           1             0               0              0\n",
            "9    10           1             0               0              1\n",
            "10   20           1             0               0              1\n",
            "11   40           0             1               0              1\n",
            "12   70           0             1               0              0\n",
            "13   50           1             0               0              1\n",
            "14   40           0             1               0              1\n",
            "15   50           0             1               0              1\n",
            "16   40           0             0               1              1\n",
            "17   80           0             0               1              1\n",
            "18   70           1             0               0              1\n",
            "19   80           1             0               0              1\n",
            "20   70           1             0               0              1\n",
            "21   40           1             0               0              1\n",
            "22   50           1             0               0              1\n",
            "23   90           0             0               1              1\n",
            "24   40           0             0               1              1\n",
            "25   60           0             0               1              1\n",
            "26   10           0             0               1              1\n",
            "27   20           1             0               0              1\n",
            "28   20           1             0               0              1\n",
            "29   40           0             0               1              1\n",
            "30   40           0             0               1              1\n",
            "31   60           0             0               1              1\n",
            "32   60           0             0               1              1\n",
            "33   20           0             0               1              1\n",
            "34   50           0             0               1              1\n",
            "35   50           0             0               1              0\n",
            "36   60           0             0               1              1\n",
            "37   40           0             0               1              1\n",
            "38   40           0             0               1              1\n",
            "0     0\n",
            "1     1\n",
            "2     0\n",
            "3     0\n",
            "4     0\n",
            "5     0\n",
            "6     0\n",
            "7     0\n",
            "8     0\n",
            "9     1\n",
            "10    1\n",
            "11    0\n",
            "12    0\n",
            "13    0\n",
            "14    1\n",
            "15    0\n",
            "16    1\n",
            "17    0\n",
            "18    0\n",
            "19    0\n",
            "20    0\n",
            "21    0\n",
            "22    1\n",
            "23    0\n",
            "24    1\n",
            "25    0\n",
            "26    1\n",
            "27    0\n",
            "28    1\n",
            "29    0\n",
            "30    0\n",
            "31    0\n",
            "32    0\n",
            "33    1\n",
            "34    0\n",
            "35    0\n",
            "36    0\n",
            "37    0\n",
            "38    0\n",
            "Name: Output, dtype: int64\n"
          ]
        }
      ]
    },
    {
      "cell_type": "markdown",
      "source": [
        "Spliting train and test data"
      ],
      "metadata": {
        "id": "M9VXdrmEyA6T"
      }
    },
    {
      "cell_type": "code",
      "source": [
        "X_train, X_test, Y_train, Y_test= train_test_split(X,Y, test_size=0.2,stratify=Y,random_state=2)#train_split_data is already imported from the from sklearn.model_selection import train_test_split\n",
        "#Y_train contains all the lebel for the X_train data and Y_test contains all the labels for the X_test data\n",
        "#stratify=Y means that the data will be split in a stratified manner, using Y as the class labels. This ensures that the proportion of each class in the training and test sets is the same as in the original data.\n",
        "#random_state=2 sets the random seed to ensure that the results are reproducible."
      ],
      "metadata": {
        "id": "MsiKeTgDxWyq"
      },
      "execution_count": null,
      "outputs": []
    },
    {
      "cell_type": "code",
      "source": [
        "print(X.shape, X_train.shape,X_test.shape)"
      ],
      "metadata": {
        "colab": {
          "base_uri": "https://localhost:8080/"
        },
        "id": "rdTdpjnr0iKq",
        "outputId": "4912641d-8e44-4228-b139-d2d04b77d174"
      },
      "execution_count": null,
      "outputs": [
        {
          "output_type": "stream",
          "name": "stdout",
          "text": [
            "(39, 5) (31, 5) (8, 5)\n"
          ]
        }
      ]
    },
    {
      "cell_type": "markdown",
      "source": [
        "Training the model"
      ],
      "metadata": {
        "id": "oJwxjvCS7tUs"
      }
    },
    {
      "cell_type": "code",
      "source": [
        "classifier=svm.SVC(kernel='linear')#here we are loading the support vector model\n",
        "#A linear kernel is a simple and effective way to separate data that is linearly separable, \n",
        "#meaning that a straight line can be drawn to separate the different classes. \n",
        "#In the case of diabetes detection using machine learning, it’s possible that the data is linearly separable\n",
        "# and a linear SVM model can provide good classification performance."
      ],
      "metadata": {
        "id": "dAiAqeNY7qN9"
      },
      "execution_count": null,
      "outputs": []
    },
    {
      "cell_type": "code",
      "source": [
        "#training the support vector machine classifier\n",
        "classifier.fit(X_train,Y_train)"
      ],
      "metadata": {
        "colab": {
          "base_uri": "https://localhost:8080/",
          "height": 75
        },
        "id": "BgF2nGcF7-dA",
        "outputId": "3c3c5cee-e842-4f71-90b8-adc55ca8c4de"
      },
      "execution_count": null,
      "outputs": [
        {
          "output_type": "execute_result",
          "data": {
            "text/plain": [
              "SVC(kernel='linear')"
            ],
            "text/html": [
              "<style>#sk-container-id-7 {color: black;background-color: white;}#sk-container-id-7 pre{padding: 0;}#sk-container-id-7 div.sk-toggleable {background-color: white;}#sk-container-id-7 label.sk-toggleable__label {cursor: pointer;display: block;width: 100%;margin-bottom: 0;padding: 0.3em;box-sizing: border-box;text-align: center;}#sk-container-id-7 label.sk-toggleable__label-arrow:before {content: \"▸\";float: left;margin-right: 0.25em;color: #696969;}#sk-container-id-7 label.sk-toggleable__label-arrow:hover:before {color: black;}#sk-container-id-7 div.sk-estimator:hover label.sk-toggleable__label-arrow:before {color: black;}#sk-container-id-7 div.sk-toggleable__content {max-height: 0;max-width: 0;overflow: hidden;text-align: left;background-color: #f0f8ff;}#sk-container-id-7 div.sk-toggleable__content pre {margin: 0.2em;color: black;border-radius: 0.25em;background-color: #f0f8ff;}#sk-container-id-7 input.sk-toggleable__control:checked~div.sk-toggleable__content {max-height: 200px;max-width: 100%;overflow: auto;}#sk-container-id-7 input.sk-toggleable__control:checked~label.sk-toggleable__label-arrow:before {content: \"▾\";}#sk-container-id-7 div.sk-estimator input.sk-toggleable__control:checked~label.sk-toggleable__label {background-color: #d4ebff;}#sk-container-id-7 div.sk-label input.sk-toggleable__control:checked~label.sk-toggleable__label {background-color: #d4ebff;}#sk-container-id-7 input.sk-hidden--visually {border: 0;clip: rect(1px 1px 1px 1px);clip: rect(1px, 1px, 1px, 1px);height: 1px;margin: -1px;overflow: hidden;padding: 0;position: absolute;width: 1px;}#sk-container-id-7 div.sk-estimator {font-family: monospace;background-color: #f0f8ff;border: 1px dotted black;border-radius: 0.25em;box-sizing: border-box;margin-bottom: 0.5em;}#sk-container-id-7 div.sk-estimator:hover {background-color: #d4ebff;}#sk-container-id-7 div.sk-parallel-item::after {content: \"\";width: 100%;border-bottom: 1px solid gray;flex-grow: 1;}#sk-container-id-7 div.sk-label:hover label.sk-toggleable__label {background-color: #d4ebff;}#sk-container-id-7 div.sk-serial::before {content: \"\";position: absolute;border-left: 1px solid gray;box-sizing: border-box;top: 0;bottom: 0;left: 50%;z-index: 0;}#sk-container-id-7 div.sk-serial {display: flex;flex-direction: column;align-items: center;background-color: white;padding-right: 0.2em;padding-left: 0.2em;position: relative;}#sk-container-id-7 div.sk-item {position: relative;z-index: 1;}#sk-container-id-7 div.sk-parallel {display: flex;align-items: stretch;justify-content: center;background-color: white;position: relative;}#sk-container-id-7 div.sk-item::before, #sk-container-id-7 div.sk-parallel-item::before {content: \"\";position: absolute;border-left: 1px solid gray;box-sizing: border-box;top: 0;bottom: 0;left: 50%;z-index: -1;}#sk-container-id-7 div.sk-parallel-item {display: flex;flex-direction: column;z-index: 1;position: relative;background-color: white;}#sk-container-id-7 div.sk-parallel-item:first-child::after {align-self: flex-end;width: 50%;}#sk-container-id-7 div.sk-parallel-item:last-child::after {align-self: flex-start;width: 50%;}#sk-container-id-7 div.sk-parallel-item:only-child::after {width: 0;}#sk-container-id-7 div.sk-dashed-wrapped {border: 1px dashed gray;margin: 0 0.4em 0.5em 0.4em;box-sizing: border-box;padding-bottom: 0.4em;background-color: white;}#sk-container-id-7 div.sk-label label {font-family: monospace;font-weight: bold;display: inline-block;line-height: 1.2em;}#sk-container-id-7 div.sk-label-container {text-align: center;}#sk-container-id-7 div.sk-container {/* jupyter's `normalize.less` sets `[hidden] { display: none; }` but bootstrap.min.css set `[hidden] { display: none !important; }` so we also need the `!important` here to be able to override the default hidden behavior on the sphinx rendered scikit-learn.org. See: https://github.com/scikit-learn/scikit-learn/issues/21755 */display: inline-block !important;position: relative;}#sk-container-id-7 div.sk-text-repr-fallback {display: none;}</style><div id=\"sk-container-id-7\" class=\"sk-top-container\"><div class=\"sk-text-repr-fallback\"><pre>SVC(kernel=&#x27;linear&#x27;)</pre><b>In a Jupyter environment, please rerun this cell to show the HTML representation or trust the notebook. <br />On GitHub, the HTML representation is unable to render, please try loading this page with nbviewer.org.</b></div><div class=\"sk-container\" hidden><div class=\"sk-item\"><div class=\"sk-estimator sk-toggleable\"><input class=\"sk-toggleable__control sk-hidden--visually\" id=\"sk-estimator-id-7\" type=\"checkbox\" checked><label for=\"sk-estimator-id-7\" class=\"sk-toggleable__label sk-toggleable__label-arrow\">SVC</label><div class=\"sk-toggleable__content\"><pre>SVC(kernel=&#x27;linear&#x27;)</pre></div></div></div></div></div>"
            ]
          },
          "metadata": {},
          "execution_count": 204
        }
      ]
    },
    {
      "cell_type": "markdown",
      "source": [
        "Model Evaluation \n",
        "\n",
        "Accuracy Score"
      ],
      "metadata": {
        "id": "JA47htAOaQXI"
      }
    },
    {
      "cell_type": "code",
      "source": [
        "#accuracy score on the training data\n",
        "X_train_prediction=classifier.predict(X_train)\n",
        "training_data_accuracy= accuracy_score(X_train_prediction, Y_train)"
      ],
      "metadata": {
        "id": "wQg6PDtU8xJP"
      },
      "execution_count": null,
      "outputs": []
    },
    {
      "cell_type": "code",
      "source": [
        "print(\"Accuracy score of the training data: \", training_data_accuracy)"
      ],
      "metadata": {
        "colab": {
          "base_uri": "https://localhost:8080/"
        },
        "id": "JNluDvz_az-7",
        "outputId": "edb83f49-7f09-4bb9-8229-54cf30f30c54"
      },
      "execution_count": null,
      "outputs": [
        {
          "output_type": "stream",
          "name": "stdout",
          "text": [
            "Accuracy score of the training data:  0.8064516129032258\n"
          ]
        }
      ]
    },
    {
      "cell_type": "code",
      "source": [
        "#accuracy score on the test data\n",
        "X_test_prediction=classifier.predict(X_test)\n",
        "test_data_accuracy= accuracy_score(X_test_prediction, Y_test)"
      ],
      "metadata": {
        "id": "h1KFfxm_bQaB"
      },
      "execution_count": null,
      "outputs": []
    },
    {
      "cell_type": "code",
      "source": [
        "print(\"Accuracy sore on test data:\",test_data_accuracy)"
      ],
      "metadata": {
        "colab": {
          "base_uri": "https://localhost:8080/"
        },
        "id": "mcD07sYJbjQZ",
        "outputId": "c00019e2-daae-456b-bedd-e196ca080b01"
      },
      "execution_count": null,
      "outputs": [
        {
          "output_type": "stream",
          "name": "stdout",
          "text": [
            "Accuracy sore on test data: 0.875\n"
          ]
        }
      ]
    },
    {
      "cell_type": "markdown",
      "source": [
        "Making a predective system"
      ],
      "metadata": {
        "id": "kG28c6aUcIvF"
      }
    },
    {
      "cell_type": "code",
      "source": [
        "input_data = (10,\t0,1\t,0,\t1)\n",
        "\n",
        "#change the input data to a numpy array \n",
        "input_data_as_numpy_array=np.asarray(input_data)\n",
        "\n",
        "#reshape the array as we area predecting for one instance\n",
        "#if we do not reshape the array then the model will expect to have 764 data which is the total number of dataset\n",
        "#it will tell the model we are not looking for all the other 764 instances but only for one instances\n",
        "input_data_reshaped= input_data_as_numpy_array.reshape(1,-1)\n",
        "\n",
        "#we need to standarized the input data since we are not using the raw data but the standarized input data\n",
        "\n",
        "#standaraizes the input data\n",
        "#std_data=scaler.transform(input_data_reshaped)\n",
        "#print(std_data)\n",
        "\n",
        "prediction=classifier.predict(input_data_reshaped)\n",
        "print(prediction)\n",
        "if (prediction[0]==0):#The prediction gives the values the value in the form of a list and the result is displayed at an index of 0 so\n",
        "  print(\"The person is type 2 diabetic\")\n",
        "else:\n",
        "  print(\"The person is type 1 diabetic\")"
      ],
      "metadata": {
        "id": "NnQUJo2qcOQb",
        "colab": {
          "base_uri": "https://localhost:8080/"
        },
        "outputId": "204ba5b3-4f1b-4257-dfb2-c47095348dbe"
      },
      "execution_count": null,
      "outputs": [
        {
          "output_type": "stream",
          "name": "stdout",
          "text": [
            "[1]\n",
            "The person is type 1 diabetic\n"
          ]
        },
        {
          "output_type": "stream",
          "name": "stderr",
          "text": [
            "/usr/local/lib/python3.10/dist-packages/sklearn/base.py:439: UserWarning: X does not have valid feature names, but SVC was fitted with feature names\n",
            "  warnings.warn(\n"
          ]
        }
      ]
    },
    {
      "cell_type": "markdown",
      "source": [
        "Saving the trained model "
      ],
      "metadata": {
        "id": "ptJewFUSmHjM"
      }
    },
    {
      "cell_type": "code",
      "source": [
        "import pickle"
      ],
      "metadata": {
        "id": "tWNvSNvb-1-_"
      },
      "execution_count": null,
      "outputs": []
    },
    {
      "cell_type": "code",
      "source": [
        "filename = 'Diabetes_trained_modelv2.sav'\n",
        "pickle.dump(classifier, open(filename, 'wb'))"
      ],
      "metadata": {
        "id": "ISTl7-4ykuev"
      },
      "execution_count": null,
      "outputs": []
    },
    {
      "cell_type": "code",
      "source": [
        "# loading the saved model\n",
        "loaded_model = pickle.load(open('Diabetes_trained_modelv2.sav', 'rb'))"
      ],
      "metadata": {
        "id": "ZNUj1tF8k-fg"
      },
      "execution_count": null,
      "outputs": []
    },
    {
      "cell_type": "code",
      "source": [
        "input_data=(80,0,0,0,0)\n",
        "\n",
        "#change the input data to a numpy array \n",
        "input_data_as_numpy_array=np.asarray(input_data)\n",
        "\n",
        "#reshape the array as we area predecting for one instance\n",
        "#if we do not reshape the array then the model will expect to have 764 data which is the total number of dataset\n",
        "#it will tell the model we are not looking for all the other 764 instances but only for one instances\n",
        "input_data_reshaped= input_data_as_numpy_array.reshape(1,-1)\n",
        "\n",
        "#we need to standarized the input data since we are not using the raw data but the standarized input data\n",
        "\n",
        "#standaraizes the input data\n",
        "#std_data=scaler.transform(input_data_reshaped)\n",
        "#print(std_data)\n",
        "\n",
        "prediction=loaded_model.predict(input_data_reshaped)\n",
        "print(prediction)\n",
        "if (prediction[0]==0):#The prediction gives the values the value in the form of a list and the result is displayed at an index of 0 so\n",
        "  print(\"The person is type 2 diabetic\")\n",
        "else:\n",
        "  print(\"The person is type 1 diabetic\")"
      ],
      "metadata": {
        "colab": {
          "base_uri": "https://localhost:8080/"
        },
        "id": "XlzaltHNlm5B",
        "outputId": "3d89ad4e-f662-4da0-b8aa-af35379f62c2"
      },
      "execution_count": null,
      "outputs": [
        {
          "output_type": "stream",
          "name": "stdout",
          "text": [
            "[0]\n",
            "The person is type 2 diabetic\n"
          ]
        },
        {
          "output_type": "stream",
          "name": "stderr",
          "text": [
            "/usr/local/lib/python3.10/dist-packages/sklearn/base.py:439: UserWarning: X does not have valid feature names, but SVC was fitted with feature names\n",
            "  warnings.warn(\n"
          ]
        }
      ]
    },
    {
      "cell_type": "code",
      "source": [],
      "metadata": {
        "id": "Iif19LbbpAGL"
      },
      "execution_count": null,
      "outputs": []
    }
  ]
}